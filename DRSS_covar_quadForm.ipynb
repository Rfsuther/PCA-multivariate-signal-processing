{
 "cells": [
  {
   "cell_type": "markdown",
   "metadata": {},
   "source": [
    "# COURSE: PCA and multivariate neural signal processing\n",
    "## SECTION: Creating and interpreting covariance matrices\n",
    "### VIDEO: Python: Visualizing the quadratic form\n",
    "#### Instructor: sincxpress.com"
   ]
  },
  {
   "cell_type": "code",
   "execution_count": null,
   "metadata": {},
   "outputs": [],
   "source": [
    "import numpy as np\n",
    "import matplotlib.pyplot as plt"
   ]
  },
  {
   "cell_type": "code",
   "execution_count": null,
   "metadata": {},
   "outputs": [],
   "source": [
    "# a happy little symmetric matrix\n",
    "A = [ [1,2],[2,3] ]\n",
    "\n",
    "# other interesting matrices to try:\n",
    "#A = [ [2,1], [4,2] ]\n",
    "#A = [ [2,1], [1,-1] ]\n",
    "#A = [ [1,0], [0,1] ]\n",
    "\n",
    "\n",
    "# range for vector w\n",
    "n = 30\n",
    "wRange = np.linspace(-2,2,n)\n",
    "\n",
    "# initialize quadratic form matrix\n",
    "qf = np.zeros( (len(wRange),len(wRange)) )\n",
    "\n",
    "# compute QF\n",
    "for xi in range(n):\n",
    "    for yi in range(n):\n",
    "        # this w\n",
    "        w = np.transpose([ wRange[xi], wRange[yi] ])\n",
    "\n",
    "        # QF\n",
    "        qf[xi,yi] = np.transpose(w)@A@w / (np.transpose(w)@w)\n",
    "\n",
    "# show the image\n",
    "plt.imshow(qf,extent=[-2,2,-2,2])\n",
    "# plt.show()\n",
    "\n",
    "\n",
    "## an aside: the solution vectors to the normalized quadratic form\n",
    "##           are the eigenvectors of the matrix.\n",
    "# compute eigendecomposition\n",
    "D,V = np.linalg.eig(A)\n",
    "\n",
    "# show the eigenvectors\n",
    "plt.plot( [0,V[0,0]],[0,V[1,0]]  )\n",
    "plt.plot( [0,V[0,1]],[0,V[1,1]]  )\n",
    "print(V)\n",
    "plt.show()"
   ]
  }
 ],
 "metadata": {
  "kernelspec": {
   "display_name": "Python 3",
   "language": "python",
   "name": "python3"
  },
  "language_info": {
   "codemirror_mode": {
    "name": "ipython",
    "version": 3
   },
   "file_extension": ".py",
   "mimetype": "text/x-python",
   "name": "python",
   "nbconvert_exporter": "python",
   "pygments_lexer": "ipython3",
   "version": "3.7.3"
  }
 },
 "nbformat": 4,
 "nbformat_minor": 2
}
