{
 "cells": [
  {
   "cell_type": "markdown",
   "metadata": {},
   "source": [
    "# COURSE: PCA and multivariate neural signal processing\n",
    "## SECTION: Dimension reduction with PCA\n",
    "### VIDEO: Python: State-space representation via PCA\n",
    "#### Instructor: sincxpress.com"
   ]
  },
  {
   "cell_type": "code",
   "execution_count": null,
   "metadata": {},
   "outputs": [],
   "source": [
    "import numpy as np\n",
    "import matplotlib.pyplot as plt\n",
    "from matplotlib import pyplot\n",
    "import copy\n",
    "import scipy.io as sio\n",
    "from mpl_toolkits.mplot3d import Axes3D\n",
    "from pytopo import topoplotIndie"
   ]
  },
  {
   "cell_type": "code",
   "execution_count": null,
   "metadata": {},
   "outputs": [],
   "source": [
    "# mat file containing EEG, leadfield and channel locations\n",
    "matfile = sio.loadmat('sampleEEGdata')\n",
    "EEG = matfile['EEG'][0,0]\n",
    "EEG['times'] = EEG['times'][0]"
   ]
  },
  {
   "cell_type": "code",
   "execution_count": null,
   "metadata": {},
   "outputs": [],
   "source": [
    "## compute PCA on ERP\n",
    "\n",
    "erp = np.mean(EEG['data'],axis=2)\n",
    "data = copy.deepcopy(erp)\n",
    "\n",
    "# mean-center and covariance matrix\n",
    "for ci in range(int(EEG['nbchan'])):\n",
    "    data[ci,:] -= np.mean(data[ci,:])\n",
    "\n",
    "covd = data@data.T / (int(EEG['pnts'])-1)\n",
    "\n",
    "# eigendecomposition\n",
    "evals,evecs = np.linalg.eig( covd )\n",
    "\n",
    "# sort according to eigenvalues\n",
    "soidx = np.argsort(evals)\n",
    "soidx = soidx[::-1]\n",
    "evals = evals[soidx]\n",
    "evecs = evecs[:,soidx]\n",
    "\n",
    "# convert eigenvalues to %change\n",
    "evals = 100*evals / np.sum(evals)\n",
    "\n",
    "\n",
    "# principal component time series\n",
    "pc_timeseries = evecs[:,0:2].T @ erp\n"
   ]
  },
  {
   "cell_type": "code",
   "execution_count": null,
   "metadata": {},
   "outputs": [],
   "source": [
    "## plot PC results in time-voltage space\n",
    "\n",
    "# eigenspectrum\n",
    "plt.plot(evals[0:20],'ko-')\n",
    "plt.title('Eigenspectrum')\n",
    "plt.ylabel('Percent variance')\n",
    "plt.xlabel('Component number')\n",
    "plt.show()\n",
    "\n",
    "\n",
    "# topographical maps of first two eigenvectors\n",
    "_,axs = plt.subplots(1,2,figsize=(8,4))\n",
    "topoplotIndie(evecs[:,0],EEG['chanlocs'],'PC1 topomap',axs[0])\n",
    "topoplotIndie(evecs[:,1],EEG['chanlocs'],'PC2 topomap',axs[1])\n",
    "plt.show()\n",
    "\n",
    "\n",
    "# plot time series\n",
    "plt.plot(EEG['times'],pc_timeseries.T)\n",
    "plt.legend(('PC1','PC2'))\n",
    "plt.xlabel('Time (s)')\n",
    "plt.show()"
   ]
  },
  {
   "cell_type": "code",
   "execution_count": null,
   "metadata": {},
   "outputs": [],
   "source": [
    "## plot state-space representation\n",
    "\n",
    "# time windows for plotting in ms\n",
    "timewin = [ [0,250], [200,600], [600,800] ]\n",
    "\n",
    "# smooth the PC time series\n",
    "pcts = copy.deepcopy(pc_timeseries)\n",
    "k = 5 # smoothing kernel\n",
    "for ti in range(k+1,EEG['pnts'][0][0]-k):\n",
    "    pcts[0,ti] = np.mean(pc_timeseries[0,ti-k:ti+k])\n",
    "    pcts[1,ti] = np.mean(pc_timeseries[1,ti-k:ti+k])\n",
    "\n",
    "\n",
    "\n",
    "# now plot the data\n",
    "for twini in range(3):\n",
    "    \n",
    "    # convert time to indices\n",
    "    tidx1 = np.argmin(np.abs(EEG['times']-timewin[twini][0]))\n",
    "    tidx2 = np.argmin(np.abs(EEG['times']-timewin[twini][1]))\n",
    "    \n",
    "    # and plot\n",
    "    plt.plot(pcts[0,tidx1:tidx2],pcts[1,tidx1:tidx2],label='%g-%gms' %(np.round(EEG['times'][tidx1]),np.round(EEG['times'][tidx2])))\n",
    "\n",
    "plt.xlabel('PC 1')\n",
    "plt.ylabel('PC 2')\n",
    "plt.legend()\n",
    "plt.show()"
   ]
  }
 ],
 "metadata": {
  "kernelspec": {
   "display_name": "Python 3",
   "language": "python",
   "name": "python3"
  },
  "language_info": {
   "codemirror_mode": {
    "name": "ipython",
    "version": 3
   },
   "file_extension": ".py",
   "mimetype": "text/x-python",
   "name": "python",
   "nbconvert_exporter": "python",
   "pygments_lexer": "ipython3",
   "version": "3.7.3"
  }
 },
 "nbformat": 4,
 "nbformat_minor": 2
}
