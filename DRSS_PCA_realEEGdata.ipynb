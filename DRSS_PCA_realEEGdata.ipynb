{
 "cells": [
  {
   "cell_type": "markdown",
   "metadata": {},
   "source": [
    "# COURSE: PCA and multivariate neural signal processing\n",
    "## SECTION: Dimension reduction with PCA\n",
    "### VIDEO: Python: PCA of real data\n",
    "#### Instructor: sincxpress.com"
   ]
  },
  {
   "cell_type": "code",
   "execution_count": null,
   "metadata": {},
   "outputs": [],
   "source": [
    "import numpy as np\n",
    "import matplotlib.pyplot as plt\n",
    "from matplotlib import pyplot\n",
    "import copy\n",
    "import scipy.io as sio\n",
    "from mpl_toolkits.mplot3d import Axes3D\n",
    "from pytopo import topoplotIndie"
   ]
  },
  {
   "cell_type": "code",
   "execution_count": null,
   "metadata": {},
   "outputs": [],
   "source": [
    "# mat file containing EEG, leadfield and channel locations\n",
    "matfile = sio.loadmat('sampleEEGdata')\n",
    "EEG = matfile['EEG'][0,0]\n",
    "EEG['times'] = EEG['times'][0]"
   ]
  },
  {
   "cell_type": "code",
   "execution_count": null,
   "metadata": {},
   "outputs": [],
   "source": [
    "## compute PCA on ERP\n",
    "\n",
    "erp = np.mean(EEG['data'],axis=2)\n",
    "data = copy.deepcopy(erp)\n",
    "\n",
    "# mean-center and covariance matrix\n",
    "for ci in range(int(EEG['nbchan'])):\n",
    "    data[ci,:] -= np.mean(data[ci,:])\n",
    "\n",
    "covd = data@data.T / (int(EEG['pnts'])-1)\n",
    "\n",
    "# eigendecomposition\n",
    "evals,evecs = np.linalg.eig( covd )\n",
    "\n",
    "# sort according to eigenvalues\n",
    "soidx = np.argsort(evals)\n",
    "soidx = soidx[::-1]\n",
    "evals = evals[soidx]\n",
    "evecs = evecs[:,soidx]\n",
    "\n",
    "# convert eigenvalues to %change\n",
    "evals = 100*evals / np.sum(evals)\n",
    "\n",
    "\n",
    "# principal component time series\n",
    "pc_timeseries = evecs[:,0].T @ erp\n"
   ]
  },
  {
   "cell_type": "code",
   "execution_count": null,
   "metadata": {},
   "outputs": [],
   "source": [
    "## plot results and compare with electrode\n",
    "\n",
    "# eigenspectrum\n",
    "plt.plot(evals[:20],'ko-')\n",
    "plt.title('Eigenspectrum')\n",
    "plt.ylabel('Percent variance')\n",
    "plt.xlabel('Component number')\n",
    "plt.show()\n",
    "\n",
    "# topographical map of first eigenvector\n",
    "topoplotIndie(evecs[:,0],EEG['chanlocs'],'PC1')\n",
    "plt.show()\n",
    "\n",
    "# plot time series\n",
    "plt.plot(EEG['times'],pc_timeseries,label='PC')\n",
    "plt.plot(EEG['times'],np.mean(erp[[19,32,20],:],axis=0)*5,label='chans')\n",
    "plt.legend()\n",
    "plt.xlabel('Time (s)')\n",
    "plt.show()"
   ]
  }
 ],
 "metadata": {
  "kernelspec": {
   "display_name": "Python 3",
   "language": "python",
   "name": "python3"
  },
  "language_info": {
   "codemirror_mode": {
    "name": "ipython",
    "version": 3
   },
   "file_extension": ".py",
   "mimetype": "text/x-python",
   "name": "python",
   "nbconvert_exporter": "python",
   "pygments_lexer": "ipython3",
   "version": "3.7.3"
  }
 },
 "nbformat": 4,
 "nbformat_minor": 2
}
