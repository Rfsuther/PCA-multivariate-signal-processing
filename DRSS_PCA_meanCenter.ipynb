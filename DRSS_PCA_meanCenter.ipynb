{
 "cells": [
  {
   "cell_type": "markdown",
   "metadata": {},
   "source": [
    "# COURSE: PCA and multivariate neural signal processing\n",
    "## SECTION: Dimension reduction with PCA\n",
    "### VIDEO: Python: Importance of mean-centering for PCA\n",
    "#### Instructor: sincxpress.com"
   ]
  },
  {
   "cell_type": "code",
   "execution_count": null,
   "metadata": {},
   "outputs": [],
   "source": [
    "import numpy as np\n",
    "import matplotlib.pyplot as plt"
   ]
  },
  {
   "cell_type": "code",
   "execution_count": null,
   "metadata": {},
   "outputs": [],
   "source": [
    "## create data\n",
    "x = np.random.randn(1000,2) \n",
    "x[:,1] = .2*x[:,1]\n",
    "\n",
    "# rotation matrix\n",
    "th = -np.pi/4\n",
    "R1 = [ [np.cos(th),-np.sin(th)], [np.sin(th),np.cos(th)] ]\n",
    "\n",
    "# rotate data to induce correlation\n",
    "y = x@R1\n",
    "\n",
    "\n",
    "### add a mean offset ###\n",
    "y[:,0] = y[:,0] + 1\n",
    "\n",
    "\n",
    "# PCA of y (correlated data)\n",
    "covmat = y.T@y / (len(y)-1)\n",
    "evals,evecs = np.linalg.eig(covmat)\n",
    "\n",
    "# (optional) mean-center the data for display\n",
    "# y[:,0] -= np.mean(y[:,0])\n",
    "# y[:,1] -= np.mean(y[:,1])\n",
    "\n",
    "\n",
    "# plot the data in a scatter plot\n",
    "plt.plot(y[:,0],y[:,1],'mo')\n",
    "\n",
    "# plot the eigenvectors\n",
    "plt.plot([0,evecs[0,0]],[0,evecs[1,0]],'k')\n",
    "plt.plot([0,evecs[0,1]],[0,evecs[1,1]],'k')\n",
    "\n",
    "plt.axis('square')\n",
    "plt.show()"
   ]
  }
 ],
 "metadata": {
  "kernelspec": {
   "display_name": "Python 3",
   "language": "python",
   "name": "python3"
  },
  "language_info": {
   "codemirror_mode": {
    "name": "ipython",
    "version": 3
   },
   "file_extension": ".py",
   "mimetype": "text/x-python",
   "name": "python",
   "nbconvert_exporter": "python",
   "pygments_lexer": "ipython3",
   "version": "3.7.3"
  }
 },
 "nbformat": 4,
 "nbformat_minor": 2
}
