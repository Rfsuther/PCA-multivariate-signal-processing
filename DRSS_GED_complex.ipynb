{
 "cells": [
  {
   "cell_type": "markdown",
   "metadata": {},
   "source": [
    "# COURSE: PCA and multivariate neural signal processing\n",
    "## SECTION: Source separation with GED\n",
    "### VIDEO: Python: Complex-valued solutions\n",
    "#### Instructor: sincxpress.com"
   ]
  },
  {
   "cell_type": "code",
   "execution_count": null,
   "metadata": {},
   "outputs": [],
   "source": [
    "import numpy as np\n",
    "import matplotlib.pyplot as plt\n",
    "import copy\n",
    "import scipy\n",
    "import scipy.io as sio\n",
    "from pytopo import topoplotIndie\n",
    "from filterFGxfun import filterFGx"
   ]
  },
  {
   "cell_type": "code",
   "execution_count": null,
   "metadata": {},
   "outputs": [],
   "source": [
    "# import the data\n",
    "\n",
    "matfile = sio.loadmat('../matlab/lowrankEEG.mat')\n",
    "EEG = matfile['EEG'][0,0]\n",
    "EEG['times'] = EEG['times'][0]\n",
    "# EEG['data'] = np.double(EEG['data'])"
   ]
  },
  {
   "cell_type": "code",
   "execution_count": null,
   "metadata": {},
   "outputs": [],
   "source": [
    "# rank of data\n",
    "\n",
    "r = np.linalg.matrix_rank(EEG['data'][:,:,0])\n",
    "\n",
    "print('Rank = ' + str(r))"
   ]
  },
  {
   "cell_type": "code",
   "execution_count": null,
   "metadata": {},
   "outputs": [],
   "source": [
    "# filter data in alpha\n",
    "centerFreq = 11\n",
    "freqFWHM = 4\n",
    "\n",
    "fdata = copy.deepcopy(EEG['data'])\n",
    "for ti in range(int(EEG['trials'])):\n",
    "    tmdat = EEG['data'][:,:,ti]\n",
    "    fdata[:,:,ti] = filterFGx(tmdat,EEG['srate'][0][0],centerFreq,freqFWHM)[0]\n",
    "\n",
    "    \n",
    "# covariance matrices\n",
    "covR = np.zeros( (EEG['nbchan'][0][0],EEG['nbchan'][0][0]) )\n",
    "covS = np.zeros( (EEG['nbchan'][0][0],EEG['nbchan'][0][0]) )\n",
    "\n",
    "for ti in range(EEG['trials'][0][0]):\n",
    "    \n",
    "    # covariance of broadband\n",
    "    covR += np.cov(EEG['data'][:,:,ti])\n",
    "    \n",
    "    # covariance of post-stim period\n",
    "    covS += np.cov(fdata[:,:,ti])\n",
    "    \n",
    "# average covariances by dividing by trials\n",
    "covR = covR/ti\n",
    "covS = covS/ti\n"
   ]
  },
  {
   "cell_type": "code",
   "execution_count": null,
   "metadata": {},
   "outputs": [],
   "source": [
    "## regularized GED\n",
    "\n",
    "# regularization amount\n",
    "regu_gam = .0\n",
    "\n",
    "# apply regularization\n",
    "R = (1-regu_gam)*covR + regu_gam*np.mean(np.linalg.eig(covR)[0])*np.eye(EEG['nbchan'][0][0])\n",
    "\n",
    "# report ranks of matrices\n",
    "print('rank(S)  = ' + str(np.linalg.matrix_rank(covS)))\n",
    "print('rank(R)  = ' + str(np.linalg.matrix_rank(covR)))\n",
    "print('rank(Rr) = ' + str(np.linalg.matrix_rank(R)))"
   ]
  },
  {
   "cell_type": "code",
   "execution_count": null,
   "metadata": {},
   "outputs": [],
   "source": [
    "### GED\n",
    "\n",
    "evals,evecs = scipy.linalg.eigh(covS,R)\n",
    "# sort according to eigenvalues\n",
    "soidx = np.argsort(evals)[::-1]\n",
    "evals = evals[soidx]\n",
    "evecs = evecs[:,soidx]\n",
    "\n",
    "# component time series\n",
    "tmpts = evecs[:,0].T @ np.reshape(EEG['data'],(EEG['nbchan'][0][0],-1),order='F')\n",
    "ts = np.reshape( tmpts,(EEG['pnts'][0][0],EEG['trials'][0][0]),order='F' )\n",
    "             \n",
    "# topomaps and time series\n",
    "topo = evecs[:,0].T@covS\n",
    "mv = np.argmax(np.abs(topo))\n",
    "if topo[mv]<0:\n",
    "    topo = -topo\n",
    "    ts = -ts"
   ]
  },
  {
   "cell_type": "code",
   "execution_count": null,
   "metadata": {},
   "outputs": [],
   "source": [
    "## some plotting\n",
    "\n",
    "# topoplot of component map\n",
    "topoplotIndie(topo,EEG['chanlocs'],'Component map')\n",
    "plt.show()\n",
    "\n",
    "# ERP\n",
    "plt.plot(EEG['times'],np.mean(ts,axis=1),'k',linewidth=3)\n",
    "plt.xlim([-200, 1000])\n",
    "plt.xlabel('Time (ms)')\n",
    "plt.show()"
   ]
  },
  {
   "cell_type": "code",
   "execution_count": null,
   "metadata": {},
   "outputs": [],
   "source": []
  }
 ],
 "metadata": {
  "kernelspec": {
   "display_name": "Python 3",
   "language": "python",
   "name": "python3"
  },
  "language_info": {
   "codemirror_mode": {
    "name": "ipython",
    "version": 3
   },
   "file_extension": ".py",
   "mimetype": "text/x-python",
   "name": "python",
   "nbconvert_exporter": "python",
   "pygments_lexer": "ipython3",
   "version": "3.7.3"
  }
 },
 "nbformat": 4,
 "nbformat_minor": 2
}
