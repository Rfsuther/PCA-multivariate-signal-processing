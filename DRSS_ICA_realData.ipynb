{
 "cells": [
  {
   "cell_type": "markdown",
   "metadata": {},
   "source": [
    "# COURSE: PCA and multivariate neural signal processing\n",
    "## SECTION: Independent components analysis\n",
    "### VIDEO: Python: Explore IC distributions in real data\n",
    "#### Instructor: sincxpress.com"
   ]
  },
  {
   "cell_type": "code",
   "execution_count": null,
   "metadata": {},
   "outputs": [],
   "source": [
    "import numpy as np\n",
    "import matplotlib.pyplot as plt\n",
    "import scipy\n",
    "import scipy.io as sio\n",
    "from pytopo import topoplotIndie\n",
    "from filterFGxfun import filterFGx"
   ]
  },
  {
   "cell_type": "code",
   "execution_count": null,
   "metadata": {},
   "outputs": [],
   "source": [
    "## preliminary \n",
    "\n",
    "# mat file containing EEG data\n",
    "matfile = sio.loadmat('../matlab/restingstate64chans.mat')\n",
    "EEG = matfile['EEG'][0,0]\n",
    "\n",
    "tmpdat = (EEG['icaweights']@EEG['icasphere'])@np.reshape(EEG['data'],(EEG['nbchan'][0][0],-1),order='F')\n",
    "EEG['icaact'] = np.reshape(tmpdat,(EEG['data'].shape))\n"
   ]
  },
  {
   "cell_type": "code",
   "execution_count": null,
   "metadata": {},
   "outputs": [],
   "source": [
    "## show IC topographies and data distributions\n",
    "\n",
    "# histogram parameters and output matrices\n",
    "nbins = 500\n",
    "x = np.zeros((9,nbins))\n",
    "y = np.zeros((9,nbins))\n",
    "\n",
    "_,axs = plt.subplots(3,3,figsize=(8,8))\n",
    "axs = axs.flatten()\n",
    "\n",
    "# let's inspect the first 9 components\n",
    "for i in range(9):\n",
    "    \n",
    "    # plot distribution\n",
    "    binY,binX = np.histogram(EEG['icaact'][i,:],bins=nbins)\n",
    "    binX = (binX[:-1]+binX[1:])/2\n",
    "    axs[i].plot(binX,binY)\n",
    "    axs[i].set_xlim([-25,25])\n",
    "    axs[i].set_title(f'Component # {i}')\n",
    "    \n",
    "    # store normalized histograms for later\n",
    "    y[i,:] = binY / np.max(binY)\n",
    "    x[i,:] = binX\n",
    "    \n",
    "\n",
    "plt.tight_layout()\n",
    "plt.show()"
   ]
  },
  {
   "cell_type": "code",
   "execution_count": null,
   "metadata": {},
   "outputs": [],
   "source": [
    "_,axs = plt.subplots(3,3,figsize=(8,8))\n",
    "axs = axs.flatten()\n",
    "\n",
    "# let's inspect the first 9 components\n",
    "for i in range(9):\n",
    "    # plot topographical maps\n",
    "    topoplotIndie(EEG['icawinv'][:,i],EEG['chanlocs'],f'Component #{i}',axs[i])\n",
    "\n",
    "plt.tight_layout()\n",
    "plt.show()"
   ]
  },
  {
   "cell_type": "code",
   "execution_count": null,
   "metadata": {},
   "outputs": [],
   "source": [
    "## show all distributions in one plot\n",
    "\n",
    "plt.plot(x.T,y.T)\n",
    "plt.xlim([-15,15])\n",
    "\n",
    "\n",
    "# for comparison, a Gaussian on top\n",
    "h = 5\n",
    "t = np.linspace(-15,15,301)\n",
    "g = np.exp( -4*np.log(2)*t**2 / h**2 )\n",
    "plt.plot(t,g,'k--',linewidth=3)\n",
    "\n",
    "plt.xlabel('Data values ($\\mu V$)')\n",
    "plt.ylabel('Normalized count')\n",
    "plt.show()"
   ]
  },
  {
   "cell_type": "code",
   "execution_count": null,
   "metadata": {},
   "outputs": [],
   "source": []
  }
 ],
 "metadata": {
  "kernelspec": {
   "display_name": "Python 3",
   "language": "python",
   "name": "python3"
  },
  "language_info": {
   "codemirror_mode": {
    "name": "ipython",
    "version": 3
   },
   "file_extension": ".py",
   "mimetype": "text/x-python",
   "name": "python",
   "nbconvert_exporter": "python",
   "pygments_lexer": "ipython3",
   "version": "3.7.3"
  }
 },
 "nbformat": 4,
 "nbformat_minor": 2
}
