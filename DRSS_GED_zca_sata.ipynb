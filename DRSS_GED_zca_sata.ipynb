{
 "cells": [
  {
   "cell_type": "markdown",
   "metadata": {},
   "source": [
    "# COURSE: PCA and multivariate neural signal processing\n",
    "## SECTION: Source separation with GED\n",
    "### VIDEO: Python: Simulated data with and without ZCA\n",
    "#### Instructor: sincxpress.com"
   ]
  },
  {
   "cell_type": "code",
   "execution_count": null,
   "metadata": {},
   "outputs": [],
   "source": [
    "import numpy as np\n",
    "import matplotlib.pyplot as plt\n",
    "from matplotlib import pyplot\n",
    "import copy\n",
    "import scipy\n",
    "import scipy.io as sio\n",
    "from scipy.linalg import sqrtm\n",
    "from pytopo import topoplotIndie\n",
    "from filterFGxfun import filterFGx"
   ]
  },
  {
   "cell_type": "code",
   "execution_count": null,
   "metadata": {},
   "outputs": [],
   "source": [
    "# toggle for ZCA\n",
    "dozca = False"
   ]
  },
  {
   "cell_type": "code",
   "execution_count": null,
   "metadata": {},
   "outputs": [],
   "source": [
    "## preliminary \n",
    "\n",
    "# mat file containing EEG, leadfield and channel locations\n",
    "matfile = sio.loadmat('emptyEEG')\n",
    "lf  = matfile['lf'][0,0]\n",
    "EEG = matfile['EEG'][0,0]\n",
    "lfsize = np.shape(lf['Gain'])\n",
    "\n",
    "EEG['srate']  = 500\n",
    "EEG['trials'] = 200   # total, 1/2 per condition\n",
    "EEG['pnts']   = 1000  # time points per trial\n",
    "EEG['times']  = np.arange(0,EEG['pnts'])/EEG['srate']\n",
    "EEG['data']   = np.zeros( (int(EEG['nbchan']),int(EEG['pnts']),int(EEG['trials'])) )"
   ]
  },
  {
   "cell_type": "code",
   "execution_count": null,
   "metadata": {},
   "outputs": [],
   "source": [
    "## insert activity waveforms into dipole data\n",
    "\n",
    "dipoleLoc1 = 108\n",
    "\n",
    "# frequencies of the two dipoles\n",
    "freq1 = 15\n",
    "\n",
    "# time point of \"stimulus\" onset\n",
    "tidx = np.argmin( np.abs(EEG['times']-np.mean(EEG['times'])) )\n",
    "\n",
    "# the \"innards\" of the sine function\n",
    "omega1 = 2*np.pi*freq1*EEG['times'][tidx:]\n",
    "\n",
    "\n",
    "\n",
    "# loop over trials\n",
    "for ti in range(EEG['trials']):\n",
    "    \n",
    "    # source waveforms (sine waves with random phase)\n",
    "    swave1 = np.sin( omega1 + np.random.rand(1)*2*np.pi )\n",
    "    \n",
    "    dipole_data = np.random.randn(lfsize[2],EEG['pnts'])/5\n",
    "    dipole_data[dipoleLoc1,tidx:] += swave1\n",
    "    \n",
    "    # project to scalp\n",
    "    EEG['data'][:,:,ti] = lf['Gain'][:,1,:]@dipole_data\n",
    "\n"
   ]
  },
  {
   "cell_type": "code",
   "execution_count": null,
   "metadata": {},
   "outputs": [],
   "source": [
    "## ZCA\n",
    "\n",
    "# PCA\n",
    "tmpdat = np.reshape( EEG['data'],(EEG['nbchan'][0][0],-1),order='F' )\n",
    "D,V  = np.linalg.eig(np.cov(tmpdat))\n",
    "\n",
    "\n",
    "# ZCA (check yz*yz'!)\n",
    "DinvSqrt = sqrtm(np.linalg.inv(np.diag(D)))\n",
    "yz = V@DinvSqrt@V.T@tmpdat\n",
    "\n",
    "\n",
    "### replace data with whitened data\n",
    "if dozca:\n",
    "    EEG['data'] = np.reshape( yz,(EEG['data'].shape),order='F' )"
   ]
  },
  {
   "cell_type": "code",
   "execution_count": null,
   "metadata": {},
   "outputs": [],
   "source": [
    "## GED for spatial filter\n",
    "\n",
    "covPre = np.zeros( (int(EEG['nbchan']),int(EEG['nbchan'])) )\n",
    "covPst = np.zeros( (int(EEG['nbchan']),int(EEG['nbchan'])) )\n",
    "\n",
    "\n",
    "# covariance matrices per trial\n",
    "for ti in range(EEG['trials']):\n",
    "    \n",
    "    # \"prestim\" covariance\n",
    "    tdat = EEG['data'][:,:tidx,ti]\n",
    "    for ci in range(EEG['nbchan'][0][0]):\n",
    "        tdat -= np.mean(tdat[ci,:])\n",
    "    covPre += (tdat@tdat.T) / EEG['pnts']\n",
    "    \n",
    "    \n",
    "    # \"post-stim\" covariance\n",
    "    tdat = EEG['data'][:,tidx:,ti]\n",
    "    for ci in range(EEG['nbchan'][0][0]):\n",
    "        tdat -= np.mean(tdat[ci,:])\n",
    "    covPst += (tdat@tdat.T) / EEG['pnts']\n",
    "    \n",
    "\n",
    "covPre = covPre/ti\n",
    "covPst = covPst/ti\n",
    "\n",
    "# GED\n",
    "evals,evecs = scipy.linalg.eigh(covPst,covPre)\n",
    "# sort according to eigenvalues\n",
    "soidx = np.argsort(evals)[::-1]\n",
    "evals = evals[soidx]\n",
    "evecs = evecs[:,soidx]\n",
    "\n",
    "\n",
    "#### compute filter forward models and flip sign\n",
    "map1 = evecs[:,0].T@covPst # get component\n",
    "idx  = np.argmax(np.abs(map1)) # find max magnitude\n",
    "map1 = map1*np.sign(map1[idx])  # possible sign flip\n",
    "\n",
    "\n",
    "\n",
    "### compute component time series (projections)\n",
    "cdat = np.zeros( (EEG['pnts'],EEG['trials']) )\n",
    "for triali in range(EEG['trials']):\n",
    "    cdat[:,triali] = evecs[:,0].T@EEG['data'][:,:,triali]\n"
   ]
  },
  {
   "cell_type": "code",
   "execution_count": null,
   "metadata": {},
   "outputs": [],
   "source": [
    "# show the resulting topos\n",
    "\n",
    "_,axs = plt.subplots(1,2)\n",
    "topoplotIndie(-lf['Gain'][:,1,dipoleLoc1], EEG['chanlocs'],'Simulation dipole 1',axs[0])\n",
    "topoplotIndie(map1,EEG['chanlocs'],'Component 1',axs[1])\n",
    "plt.show()"
   ]
  },
  {
   "cell_type": "code",
   "execution_count": null,
   "metadata": {},
   "outputs": [],
   "source": [
    "## standard TF analysis on components\n",
    "\n",
    "# frequencies in Hz\n",
    "frex = np.linspace(2,20,20)\n",
    "\n",
    "# convenient to have component time series data as 2D\n",
    "comp2d = np.reshape(cdat,(1,-1),order='F')\n",
    "# comp2d = np.reshape(EEG['data'][[30,46],:,:],(2,int(np.prod(cdat.shape)/2)),order='F')\n",
    "\n",
    "# initialize time-frequency matrix\n",
    "ctf = np.zeros( (len(frex),EEG['pnts']) )\n",
    "\n",
    "\n",
    "# loop over frequencies\n",
    "for fi in range(len(frex)):\n",
    "    \n",
    "    # filter data for both components at this frequency\n",
    "    filtdat,empvals = filterFGx(comp2d,EEG['srate'],frex[fi],4)\n",
    "    \n",
    "    # compute power time series as envelope of Hilbert transform\n",
    "    tmpm = scipy.signal.hilbert(filtdat)\n",
    "    asig = np.reshape(tmpm ,(EEG['pnts'],EEG['trials']),order='F')\n",
    "\n",
    "    # TF power is trial-average power\n",
    "    ctf[fi,:] = np.mean( np.abs(asig)**2 ,axis=1)\n",
    "        "
   ]
  },
  {
   "cell_type": "code",
   "execution_count": null,
   "metadata": {},
   "outputs": [],
   "source": [
    "## some plotting\n",
    "\n",
    "_,axs = plt.subplots(1,2,figsize=(8,3))\n",
    "\n",
    "axs[0].plot(evals,'s-')\n",
    "axs[0].set_xlim([-.5,15.5])\n",
    "axs[0].set_xlabel('Components')\n",
    "axs[0].set_ylabel('$\\lambda$')\n",
    "axs[0].set_title('GED eigenspectrum')\n",
    "\n",
    "\n",
    "axs[1].pcolormesh(EEG['times'],frex,ctf)\n",
    "axs[1].set_title('Time-frequency result')\n",
    "axs[1].set_xlabel('Time (s)')\n",
    "axs[1].set_ylabel('Frequency (Hz)')\n",
    "\n",
    "plt.tight_layout()\n",
    "plt.show()"
   ]
  },
  {
   "cell_type": "code",
   "execution_count": null,
   "metadata": {},
   "outputs": [],
   "source": []
  }
 ],
 "metadata": {
  "kernelspec": {
   "display_name": "Python 3",
   "language": "python",
   "name": "python3"
  },
  "language_info": {
   "codemirror_mode": {
    "name": "ipython",
    "version": 3
   },
   "file_extension": ".py",
   "mimetype": "text/x-python",
   "name": "python",
   "nbconvert_exporter": "python",
   "pygments_lexer": "ipython3",
   "version": "3.7.3"
  }
 },
 "nbformat": 4,
 "nbformat_minor": 2
}
