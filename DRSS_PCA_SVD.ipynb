{
 "cells": [
  {
   "cell_type": "markdown",
   "metadata": {},
   "source": [
    "# COURSE: PCA and multivariate neural signal processing\n",
    "## SECTION: Dimension reduction with PCA\n",
    "### VIDEO: Python: PCA via SVD of covariance\n",
    "#### Instructor: sincxpress.com"
   ]
  },
  {
   "cell_type": "code",
   "execution_count": null,
   "metadata": {},
   "outputs": [],
   "source": [
    "import numpy as np\n",
    "import matplotlib.pyplot as plt\n",
    "import copy"
   ]
  },
  {
   "cell_type": "code",
   "execution_count": null,
   "metadata": {},
   "outputs": [],
   "source": [
    "## simulate data with covariance structure\n",
    "\n",
    "# simulation parameters\n",
    "N = 10000    # time points\n",
    "M =    20    # channels\n",
    "\n",
    "# time vector (radian units)\n",
    "t = np.linspace(0,6*np.pi,N)\n",
    "\n",
    "# relationship across channels (imposing covariance)\n",
    "chanrel = np.sin(np.linspace(0,2*np.pi,M))\n",
    "\n",
    "# create the data\n",
    "data = np.outer(np.sin(t),chanrel).T + np.random.randn(M,N)\n",
    "\n",
    "# view the data\n",
    "plt.pcolormesh(data)\n",
    "plt.xlabel('Time (rad.)')\n",
    "plt.ylabel('Channel')\n",
    "plt.show()"
   ]
  },
  {
   "cell_type": "code",
   "execution_count": null,
   "metadata": {},
   "outputs": [],
   "source": [
    "## PCA via eigendecomposition of covariance matrix\n",
    "\n",
    "# step 1: mean-center and compute covariance matrix\n",
    "dataM = copy.deepcopy(data)\n",
    "for ci in range(M):\n",
    "    dataM[ci,:] -= np.mean(dataM[ci,:])\n",
    "\n",
    "covmat = dataM@dataM.T / (N-1)\n",
    "\n",
    "\n",
    "# step 2: eigendecomposition\n",
    "evals,evecs = np.linalg.eig( covmat )\n",
    "\n",
    "\n",
    "# step 3: sort vectors by values\n",
    "soidx = np.argsort(evals)\n",
    "soidx = soidx[::-1]\n",
    "evals = evals[soidx]\n",
    "evecs = evecs[:,soidx]\n",
    "\n",
    "# step 5: convert eigenvalues to percent change\n",
    "evals = 100*evals / np.sum(evals)\n",
    "\n",
    "# step 4: compute component time series\n",
    "eig_ts = evecs[:,0].T@data\n"
   ]
  },
  {
   "cell_type": "code",
   "execution_count": null,
   "metadata": {},
   "outputs": [],
   "source": [
    "## PCA via SVD of data matrix\n",
    "\n",
    "U,s,V = np.linalg.svd( data,'econ' )\n",
    "\n",
    "print('U: '+str(np.shape(U)))\n",
    "print('s: '+str(np.shape(s)))\n",
    "print('V: '+str(np.shape(V)))\n",
    "\n",
    "# convert singular values to %\n",
    "S = s**2; # makes it comparable to eigenvalues\n",
    "S = 100*S / np.sum(S)\n"
   ]
  },
  {
   "cell_type": "code",
   "execution_count": null,
   "metadata": {},
   "outputs": [],
   "source": [
    "## show the results\n",
    "\n",
    "# plot eigenvalue/singular-value spectrum\n",
    "plt.subplot(121)\n",
    "plt.plot(evals,'bs-',label='eigenvalues')\n",
    "plt.plot(S,'ro-',label='singular vals.')\n",
    "plt.xlabel('Component number')\n",
    "plt.ylabel('$\\lambda$ or $\\sigma$')\n",
    "plt.legend()\n",
    "plt.title('Eigenspectrum')\n",
    "\n",
    "\n",
    "# show eigenvector/singular value\n",
    "plt.subplot(122)\n",
    "plt.plot(evecs[:,0],'bs-',label='eig vector')\n",
    "plt.plot(U[:,0],'ro-',label='singular vect.')\n",
    "plt.xlabel('Vector component')\n",
    "plt.ylabel('Weight')\n",
    "plt.legend()\n",
    "plt.title('Component weights')\n",
    "\n",
    "plt.show()\n",
    "\n",
    "\n",
    "# time series\n",
    "timevec = np.arange(0,N)/N\n",
    "plt.plot(timevec,V[0,:]*s[0],'.',label='from svd')\n",
    "plt.plot(timevec,eig_ts,label='from eig')\n",
    "plt.xlabel('Time (norm.)')\n",
    "plt.title('Component time series')\n",
    "plt.legend()\n",
    "# plt.xlim([.2,.23])\n",
    "plt.show()\n"
   ]
  }
 ],
 "metadata": {
  "kernelspec": {
   "display_name": "Python 3",
   "language": "python",
   "name": "python3"
  },
  "language_info": {
   "codemirror_mode": {
    "name": "ipython",
    "version": 3
   },
   "file_extension": ".py",
   "mimetype": "text/x-python",
   "name": "python",
   "nbconvert_exporter": "python",
   "pygments_lexer": "ipython3",
   "version": "3.7.3"
  }
 },
 "nbformat": 4,
 "nbformat_minor": 2
}
