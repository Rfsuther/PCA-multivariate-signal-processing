{
 "cells": [
  {
   "cell_type": "markdown",
   "metadata": {},
   "source": [
    "# COURSE: PCA and multivariate neural signal processing\n",
    "## SECTION: Introduction\n",
    "### VIDEO: What are spatial filters\n",
    "#### Instructor: sincxpress.com"
   ]
  },
  {
   "cell_type": "code",
   "execution_count": null,
   "metadata": {},
   "outputs": [],
   "source": [
    "import numpy as np\n",
    "import matplotlib.pyplot as plt"
   ]
  },
  {
   "cell_type": "code",
   "execution_count": null,
   "metadata": {},
   "outputs": [],
   "source": [
    "\n",
    "# number of time points\n",
    "n = 1000\n",
    "\n",
    "# time vector\n",
    "t = np.linspace(-2,2,n)\n",
    "\n",
    "# create signal\n",
    "s = np.zeros(n)\n",
    "s[range(int(n/2)-100,int(n/2+100))] = 1\n",
    "s = s + np.random.randn(n)/20\n",
    "\n",
    "# create filter kernel\n",
    "w = np.cos(2*np.pi*10*t) * np.exp( -t**2/.01 )\n",
    "\n",
    "# filtered signal\n",
    "f = np.convolve(s,w,'same')\n",
    "\n",
    "\n",
    "## plotting\n",
    "plt.subplot(3,1,1)\n",
    "plt.plot(s)\n",
    "\n",
    "plt.subplot(3,1,2)\n",
    "plt.plot(w)\n",
    "\n",
    "plt.subplot(3,1,3)\n",
    "plt.plot(f)\n",
    "\n",
    "plt.show()"
   ]
  }
 ],
 "metadata": {
  "kernelspec": {
   "display_name": "Python 3",
   "language": "python",
   "name": "python3"
  },
  "language_info": {
   "codemirror_mode": {
    "name": "ipython",
    "version": 3
   },
   "file_extension": ".py",
   "mimetype": "text/x-python",
   "name": "python",
   "nbconvert_exporter": "python",
   "pygments_lexer": "ipython3",
   "version": "3.7.3"
  }
 },
 "nbformat": 4,
 "nbformat_minor": 2
}
