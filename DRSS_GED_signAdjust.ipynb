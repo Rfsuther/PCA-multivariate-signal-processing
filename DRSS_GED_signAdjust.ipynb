{
 "cells": [
  {
   "cell_type": "markdown",
   "metadata": {},
   "source": [
    "# COURSE: PCA and multivariate neural signal processing\n",
    "## SECTION: Source separation with GED\n",
    "### VIDEO: Adjusting component signs\n",
    "#### Instructor: sincxpress.com"
   ]
  },
  {
   "cell_type": "code",
   "execution_count": null,
   "metadata": {},
   "outputs": [],
   "source": [
    "import numpy as np\n",
    "import scipy.linalg\n",
    "import matplotlib.pyplot as plt\n",
    "import scipy.io as sio\n",
    "from mpl_toolkits.mplot3d import Axes3D\n",
    "from pytopo import topoplotIndie"
   ]
  },
  {
   "cell_type": "code",
   "execution_count": null,
   "metadata": {},
   "outputs": [],
   "source": [
    "## simulate data\n",
    "\n",
    "# mat file containing EEG, leadfield and channel locations\n",
    "matfile = sio.loadmat('emptyEEG')\n",
    "EEG = matfile['EEG'][0,0]\n",
    "lf  = matfile['lf'][0,0]\n",
    "\n",
    "# adjust some parameters\n",
    "EEG['srate']  = 500\n",
    "EEG['trials'] = 1\n",
    "EEG['pnts']   = 1000\n",
    "EEG['times']  = np.arange(EEG['pnts']) / EEG['srate']\n",
    "EEG['data']   = np.zeros( (EEG['nbchan'][0][0],EEG['pnts'],EEG['trials']) )\n",
    "\n",
    "# index of dipole to simulate activity in\n",
    "diploc = 108\n",
    "\n",
    "# show dipole projection map\n",
    "topoplotIndie(-lf['Gain'][:,0,diploc],EEG['chanlocs'])\n"
   ]
  },
  {
   "cell_type": "code",
   "execution_count": null,
   "metadata": {},
   "outputs": [],
   "source": [
    "## create data\n",
    "\n",
    "lfshape = np.shape(lf['Gain'])\n",
    "\n",
    "# Random data in all brain dipoles\n",
    "dipole_data = np.random.randn(lfshape[2],EEG['pnts'])\n",
    "\n",
    "# add signal to second half of dataset\n",
    "dipole_data[diploc,500:] = -15*np.sin(2*np.pi*10*np.arange(500)/EEG['srate'])\n",
    "\n",
    "# project data from all dipoles to scalp electrodes\n",
    "EEG['data'] = lf['Gain'][:,0,:] @ dipole_data\n",
    "\n",
    "# show dipole time series\n",
    "plt.plot(EEG['times'],dipole_data[diploc,:])\n",
    "plt.xlabel('Time (sec)')\n",
    "plt.title('Dipole time series')\n",
    "plt.show()"
   ]
  },
  {
   "cell_type": "code",
   "execution_count": null,
   "metadata": {},
   "outputs": [],
   "source": [
    "## compute GED\n",
    "\n",
    "# covariance matrices\n",
    "covR = np.cov(EEG['data'][:,:500])\n",
    "covS = np.cov(EEG['data'][:,500:])\n",
    "\n",
    "# GED\n",
    "evals,evecs = scipy.linalg.eigh( covS,covR )\n",
    "\n",
    "# sort according to eigenvalues\n",
    "soidx = np.argsort(evals)[::-1]\n",
    "evals = evals[soidx]\n",
    "evecs = evecs[:,soidx]\n"
   ]
  },
  {
   "cell_type": "code",
   "execution_count": null,
   "metadata": {},
   "outputs": [],
   "source": [
    "## option 1: ignore the sign\n",
    "\n",
    "# compute filter forward model and component time series\n",
    "cmap  = evecs[:,0].T @ covS\n",
    "cdat1 = evecs[:,0].T @ EEG['data']\n",
    "\n",
    "# visualize the map\n",
    "topoplotIndie(cmap,EEG['chanlocs'],'Option 1 (ignore)')\n"
   ]
  },
  {
   "cell_type": "code",
   "execution_count": null,
   "metadata": {},
   "outputs": [],
   "source": [
    "## option 2: force positive max. value\n",
    "\n",
    "# find max magnitude and its sign\n",
    "idx = np.argmax(np.abs(cmap))\n",
    "signOfMax = np.sign(cmap[idx])\n",
    "\n",
    "# sign-flip the eigenvector\n",
    "w = evecs[:,0] * signOfMax\n",
    "\n",
    "# re-compute map and component time series\n",
    "cmap  = w.T @ covS\n",
    "cdat2 = w.T @ EEG['data']\n",
    "\n",
    "# visualize the map\n",
    "topoplotIndie(cmap,EEG['chanlocs'],'Option 2 (max-pos)')\n"
   ]
  },
  {
   "cell_type": "code",
   "execution_count": null,
   "metadata": {},
   "outputs": [],
   "source": [
    "## show all of the component time series\n",
    "\n",
    "plt.plot(EEG['times'],dipole_data[diploc,:]/2,label='Dipole G.T.')\n",
    "plt.plot(EEG['times'],cdat1,label='Option 1')\n",
    "plt.plot(EEG['times'],cdat2,label='Option 2')\n",
    "plt.xlabel('Time (sec)')\n",
    "plt.legend()\n",
    "plt.show()"
   ]
  },
  {
   "cell_type": "code",
   "execution_count": null,
   "metadata": {},
   "outputs": [],
   "source": [
    "## option 2b: force sign of a particular electrode\n",
    "\n",
    "chan2bPos = 'Fz'\n",
    "\n",
    "for i,c in enumerate(EEG['chanlocs'][0]):\n",
    "    if chan2bPos==c[0][0]:\n",
    "        chanidx = i\n",
    "\n",
    "# find max magnitude and its sign\n",
    "cmap = evecs[:,0].T @ covS\n",
    "targetSign = np.sign(cmap[chanidx])\n",
    "\n",
    "# sign-flip the eigenvector\n",
    "w = evecs[:,0] * targetSign\n",
    "\n",
    "# recompute the map and component time series\n",
    "cmap  = w.T @ covS\n",
    "cdat2 = w.T @ EEG['data']"
   ]
  }
 ],
 "metadata": {
  "kernelspec": {
   "display_name": "Python 3",
   "language": "python",
   "name": "python3"
  },
  "language_info": {
   "codemirror_mode": {
    "name": "ipython",
    "version": 3
   },
   "file_extension": ".py",
   "mimetype": "text/x-python",
   "name": "python",
   "nbconvert_exporter": "python",
   "pygments_lexer": "ipython3",
   "version": "3.7.3"
  }
 },
 "nbformat": 4,
 "nbformat_minor": 2
}
