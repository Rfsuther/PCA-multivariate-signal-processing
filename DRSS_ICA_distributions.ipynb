{
 "cells": [
  {
   "cell_type": "markdown",
   "metadata": {},
   "source": [
    "# COURSE: PCA and multivariate neural signal processing\n",
    "## SECTION: Independent components analysis\n",
    "### VIDEO: Data distributions and ICA\n",
    "#### Instructor: sincxpress.com"
   ]
  },
  {
   "cell_type": "code",
   "execution_count": null,
   "metadata": {},
   "outputs": [],
   "source": [
    "import numpy as np\n",
    "import matplotlib.pyplot as plt\n",
    "\n",
    "# ICA algorithm, taken from https://github.com/camilleanne/pulse/blob/master/jade.py\n",
    "# I made a few tiny adjustments.\n",
    "import jade"
   ]
  },
  {
   "cell_type": "code",
   "execution_count": null,
   "metadata": {},
   "outputs": [],
   "source": [
    "## some simple data\n",
    "\n",
    "N = 1000\n",
    "\n",
    "# a non-Gaussian distribution\n",
    "dist1 = np.random.rand(N)\n",
    "\n",
    "# another non-Gaussian distribution\n",
    "dist2 = np.random.rand(N)**2\n",
    "\n",
    "# their separate and combined distributions\n",
    "_,axs = plt.subplots(1,2)\n",
    "axs[0].hist(dist1,100)\n",
    "axs[0].set_title('Distribution 1')\n",
    "\n",
    "axs[1].hist(dist2,100)\n",
    "axs[1].set_title('Distribution 1')\n",
    "plt.tight_layout()\n",
    "plt.show()\n",
    "\n",
    "# and their summed distribution\n",
    "plt.hist(dist1,100)\n",
    "plt.title('Distributions 1+2')\n",
    "plt.xlabel('Data value')\n",
    "plt.ylabel('Count')\n",
    "plt.show()\n",
    "\n",
    "# QUESTION: What is the shape of the combined distribution? \n",
    "#           Are you surprised at the result?\n",
    "#           What does this tell you about mixing distributions?"
   ]
  },
  {
   "cell_type": "code",
   "execution_count": null,
   "metadata": {},
   "outputs": [],
   "source": [
    "## ICA on a trivial example (unmixed data)\n",
    "\n",
    "data = np.zeros( (2,N) )\n",
    "\n",
    "# two non-Gaussian distributions\n",
    "data[0,:] = np.random.rand(N)\n",
    "data[1,:] = np.random.rand(N)**4\n",
    "\n",
    "# ICA and scores\n",
    "b = jade.main(data)[0]\n",
    "iscores = np.array(b)@data\n",
    "\n",
    "\n",
    "\n",
    "#### plot distributions\n",
    "_,axs = plt.subplots(2,2)\n",
    "# data 1\n",
    "axs[0,0].hist(data[0,:],100)\n",
    "axs[0,0].set_title('Data 1')\n",
    "\n",
    "# data 1\n",
    "axs[0,1].hist(data[1,:],100)\n",
    "axs[0,1].set_title('Data 1')\n",
    "\n",
    "# ICs 1\n",
    "axs[1,0].hist(iscores[0,:],100)\n",
    "axs[1,0].set_title('IC 1')\n",
    "\n",
    "# ICs 2\n",
    "axs[1,1].hist(iscores[1,:],100)\n",
    "axs[1,1].set_title('IC 2')\n",
    "\n",
    "plt.tight_layout()\n",
    "plt.show()"
   ]
  },
  {
   "cell_type": "code",
   "execution_count": null,
   "metadata": {},
   "outputs": [],
   "source": [
    "# now plot data as a function of ICs\n",
    "\n",
    "_,axs = plt.subplots(1,2)\n",
    "axs[0].plot(data[0,:],iscores[0,:],'o')\n",
    "axs[0].set_xlabel('Data')\n",
    "axs[0].set_ylabel('IC1 scores')\n",
    "\n",
    "axs[1].plot(data[1,:],iscores[1,:],'o')\n",
    "axs[1].set_xlabel('Data')\n",
    "axs[1].set_ylabel('IC1 scores')\n",
    "\n",
    "plt.tight_layout()\n",
    "plt.show()"
   ]
  },
  {
   "cell_type": "code",
   "execution_count": null,
   "metadata": {},
   "outputs": [],
   "source": []
  }
 ],
 "metadata": {
  "kernelspec": {
   "display_name": "Python 3",
   "language": "python",
   "name": "python3"
  },
  "language_info": {
   "codemirror_mode": {
    "name": "ipython",
    "version": 3
   },
   "file_extension": ".py",
   "mimetype": "text/x-python",
   "name": "python",
   "nbconvert_exporter": "python",
   "pygments_lexer": "ipython3",
   "version": "3.7.3"
  }
 },
 "nbformat": 4,
 "nbformat_minor": 2
}
