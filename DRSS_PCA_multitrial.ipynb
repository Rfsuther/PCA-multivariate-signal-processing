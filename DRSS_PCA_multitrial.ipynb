{
 "cells": [
  {
   "cell_type": "markdown",
   "metadata": {},
   "source": [
    "# COURSE: PCA and multivariate neural signal processing\n",
    "## SECTION: Dimension reduction with PCA\n",
    "### VIDEO: Python: PCA on multi-trial data\n",
    "#### Instructor: sincxpress.com"
   ]
  },
  {
   "cell_type": "code",
   "execution_count": null,
   "metadata": {},
   "outputs": [],
   "source": [
    "import numpy as np\n",
    "import matplotlib.pyplot as plt\n",
    "from matplotlib import pyplot\n",
    "import copy\n",
    "import scipy.io as sio\n",
    "# from mpl_toolkits.mplot3d import Axes3D\n",
    "from pytopo import topoplotIndie"
   ]
  },
  {
   "cell_type": "code",
   "execution_count": null,
   "metadata": {},
   "outputs": [],
   "source": [
    "# mat file containing EEG, leadfield and channel locations\n",
    "matfile = sio.loadmat('sampleEEGdata')\n",
    "EEG = matfile['EEG'][0,0]\n",
    "EEG['times'] = EEG['times'][0]"
   ]
  },
  {
   "cell_type": "code",
   "execution_count": null,
   "metadata": {},
   "outputs": [],
   "source": [
    "## erp (\"phase-locked\") covariance matrix\n",
    "\n",
    "# time window to use\n",
    "tidx1 = np.argmin(EEG['times'])\n",
    "tidx2 = np.argmin(np.abs(EEG['times']-800))\n",
    "\n",
    "# phase-locked covariance\n",
    "erp  = np.mean(EEG['data'][:,tidx1:tidx2,:],axis=2)\n",
    "data = copy.deepcopy(erp)\n",
    "\n",
    "# mean-center and covariance matrix\n",
    "for ci in range(int(EEG['nbchan'])):\n",
    "    data[ci,:] -= np.mean(data[ci,:])\n",
    "\n",
    "# and get the covariance matrix\n",
    "cov_phaselocked = data@data.T / (int(EEG['pnts'])-1)"
   ]
  },
  {
   "cell_type": "code",
   "execution_count": null,
   "metadata": {},
   "outputs": [],
   "source": [
    "## single-trial (\"total\") covariance matrix\n",
    "\n",
    "# initialize\n",
    "cov_total = np.zeros((EEG['nbchan'][0][0],EEG['nbchan'][0][0]))\n",
    "\n",
    "# loop over trials\n",
    "for triali in range(EEG['trials'][0][0]):\n",
    "    \n",
    "    # data covariance from this trial\n",
    "    minicov = np.cov( EEG['data'][:,tidx1:tidx2,triali] )\n",
    "    \n",
    "    # add to the mix\n",
    "    cov_total += minicov\n",
    "\n",
    "\n",
    "# scale by N\n",
    "cov_total /= triali"
   ]
  },
  {
   "cell_type": "code",
   "execution_count": null,
   "metadata": {},
   "outputs": [],
   "source": [
    "## visualize the two covariance matrices\n",
    "\n",
    "fig,axs = plt.subplots(1,2,figsize=(8,5))\n",
    "fig.subplots_adjust(top=0.6)\n",
    "\n",
    "h = axs[0].imshow(cov_phaselocked,vmin=-2,vmax=2)\n",
    "axs[0].set_xlabel('Channels')\n",
    "axs[0].set_ylabel('Channels')\n",
    "axs[0].set_title('Covariance of average')\n",
    "plt.colorbar(h,ax=axs[0])\n",
    "\n",
    "h = axs[1].imshow(cov_total,vmin=-100,vmax=100)\n",
    "axs[1].set_xlabel('Channels')\n",
    "axs[1].set_ylabel('Channels')\n",
    "axs[1].set_title('Average of covariances')\n",
    "plt.colorbar(h,ax=axs[1])\n",
    "\n",
    "# plt.tight_layout()\n",
    "plt.show()"
   ]
  },
  {
   "cell_type": "code",
   "execution_count": null,
   "metadata": {},
   "outputs": [],
   "source": [
    "## compute PCA on ERP\n",
    "\n",
    "# eigendecomposition\n",
    "L_PL,V_PL = np.linalg.eig( cov_phaselocked )\n",
    "\n",
    "# sort according to eigenvalues\n",
    "soidx = np.argsort(L_PL)[::-1]\n",
    "L_PL  = L_PL[soidx]\n",
    "V_PL  = V_PL[:,soidx]\n",
    "\n",
    "# convert eigenvalues to %change\n",
    "L_PL = 100*L_PL / np.sum(L_PL)\n",
    "\n",
    "# principal component time series\n",
    "# NOTE: applying filter to the entire time series!\n",
    "compts_PL = V_PL[:,0].T @ np.mean(EEG['data'],axis=2)"
   ]
  },
  {
   "cell_type": "code",
   "execution_count": null,
   "metadata": {},
   "outputs": [],
   "source": [
    "## repeat for total covariance\n",
    "\n",
    "# eigendecomposition\n",
    "L_TT,V_TT = np.linalg.eig( cov_total )\n",
    "\n",
    "# sort according to eigenvalues\n",
    "soidx = np.argsort(L_TT)[::-1]\n",
    "L_TT  = L_TT[soidx]\n",
    "V_TT  = V_TT[:,soidx]\n",
    "\n",
    "# convert eigenvalues to %change\n",
    "L_TT = 100*L_TT / np.sum(L_TT)\n",
    "\n",
    "# principal components time series\n",
    "# data are 3D, so we reshape to 2D, project, then reshape back\n",
    "data2d    = np.reshape(EEG['data'],[EEG['nbchan'][0][0],-1],order='F')\n",
    "comptmp   = V_TT[:,0].T @ data2d\n",
    "compts_TT = np.reshape(comptmp,[EEG['pnts'][0][0],EEG['trials'][0][0]],order='F')\n",
    "\n",
    "# then compute the trial average\n",
    "compTT_erp = np.mean(compts_TT,axis=1)"
   ]
  },
  {
   "cell_type": "code",
   "execution_count": null,
   "metadata": {},
   "outputs": [],
   "source": [
    "## visualize the results\n",
    "_,axs = plt.subplots(1,2,figsize=(8,3))\n",
    "\n",
    "# scree plots\n",
    "axs[0].plot(L_PL,'ks-',label='Phase-locked')\n",
    "axs[0].plot(L_TT,'rs-',label='Total')\n",
    "axs[0].set_xlim([-.5,20])\n",
    "axs[0].set_xlabel('Component number')\n",
    "axs[0].set_ylabel('% variance')\n",
    "axs[0].legend()\n",
    "\n",
    "# cumulative scree plots\n",
    "axs[1].plot(np.cumsum(L_PL),'ks-',label='Phase-locked')\n",
    "axs[1].plot(np.cumsum(L_TT),'rs-',label='Total')\n",
    "axs[1].set_xlim([-.5,20])\n",
    "axs[1].set_xlabel('Component number')\n",
    "axs[1].set_ylabel('Cumulative variance (%)')\n",
    "\n",
    "plt.tight_layout()\n",
    "plt.show()\n",
    "\n",
    "\n",
    "# show topomaps\n",
    "_,axs = plt.subplots(1,2,figsize=(8,4))\n",
    "topoplotIndie(-V_PL[:,0],EEG['chanlocs'],'Phase-locked',axs[0])\n",
    "topoplotIndie(V_TT[:,0],EEG['chanlocs'],'Total',axs[1])\n",
    "plt.show()\n",
    "\n",
    "\n",
    "# show ERPs\n",
    "plt.figure(figsize=(8,3))\n",
    "plt.plot(EEG['times'],-compts_PL,label='Phase-locked')\n",
    "plt.plot(EEG['times'],compTT_erp,label='Total')\n",
    "plt.xlim([-200,1300])\n",
    "plt.ylim([-20,45])\n",
    "plt.xlabel('Time (ms)')\n",
    "plt.legend()\n",
    "\n",
    "plt.show()"
   ]
  }
 ],
 "metadata": {
  "kernelspec": {
   "display_name": "Python 3",
   "language": "python",
   "name": "python3"
  },
  "language_info": {
   "codemirror_mode": {
    "name": "ipython",
    "version": 3
   },
   "file_extension": ".py",
   "mimetype": "text/x-python",
   "name": "python",
   "nbconvert_exporter": "python",
   "pygments_lexer": "ipython3",
   "version": "3.7.3"
  }
 },
 "nbformat": 4,
 "nbformat_minor": 2
}
