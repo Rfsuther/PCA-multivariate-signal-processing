{
 "cells": [
  {
   "cell_type": "markdown",
   "metadata": {},
   "source": [
    "# COURSE: PCA and multivariate neural signal processing\n",
    "## SECTION: Source separation with GED\n",
    "### VIDEO: GED in a simple example\n",
    "#### Instructor: sincxpress.com"
   ]
  },
  {
   "cell_type": "code",
   "execution_count": null,
   "metadata": {},
   "outputs": [],
   "source": [
    "import numpy as np\n",
    "import matplotlib.pyplot as plt\n",
    "\n",
    "# NOTE: numpy does not solve the GED, so we use scipy\n",
    "import scipy.linalg"
   ]
  },
  {
   "cell_type": "code",
   "execution_count": null,
   "metadata": {},
   "outputs": [],
   "source": [
    "# generate data\n",
    "x = np.hstack((np.random.randn(1000,1),.05*np.random.randn(1000,1)))\n",
    "\n",
    "# rotation matrix\n",
    "th = -np.pi/6\n",
    "R1 = np.array([ [np.cos(th), -np.sin(th)], [np.sin(th), np.cos(th)] ])\n",
    "th = -np.pi/3\n",
    "R2 = np.array([ [np.cos(th), -np.sin(th)], [np.sin(th), np.cos(th)] ])\n",
    "\n",
    "# rotate data\n",
    "y = np.vstack( (x@R1,x@R2) )\n",
    "\n",
    "\n",
    "# show the data\n",
    "plt.plot(y[:,0],y[:,1],'bo',markerfacecolor='y')\n",
    "plt.axis('square')\n",
    "plt.title('Data space')\n",
    "plt.show()"
   ]
  },
  {
   "cell_type": "code",
   "execution_count": null,
   "metadata": {},
   "outputs": [],
   "source": [
    "## run PCA\n",
    "\n",
    "# mean-center\n",
    "y -= np.mean(y,axis=0)\n",
    "\n",
    "# eigendecomposition of covariance matrix\n",
    "evalsPCA,evecsPCA = np.linalg.eig( y.T@y / len(y) )\n",
    "\n",
    "# component time series\n",
    "comps = evecsPCA.T@y.T\n",
    "\n",
    "\n",
    "# plot the data with eigenvectors\n",
    "_,axs = plt.subplots(1,2,figsize=(6,3))\n",
    "axs[0].plot(y[:,0],y[:,1],'bo',markerfacecolor='y')\n",
    "axs[0].plot([0,evecsPCA[0,0]],[0,evecsPCA[1,0]],'r',linewidth=5)\n",
    "axs[0].plot([0,evecsPCA[0,1]],[0,evecsPCA[1,1]],'k',linewidth=5)\n",
    "axs[0].axis('square')\n",
    "axs[0].set_title('Data space')\n",
    "\n",
    "\n",
    "## plot the data in PC space\n",
    "axs[1].plot(comps[0,:],comps[1,:],'bo',markerfacecolor='y')\n",
    "axs[1].set_xlim([-4,4])\n",
    "axs[1].set_ylim([-4,4])\n",
    "axs[1].set_title('PC space')\n",
    "\n",
    "plt.tight_layout()\n",
    "plt.show()"
   ]
  },
  {
   "cell_type": "code",
   "execution_count": null,
   "metadata": {},
   "outputs": [],
   "source": [
    "## GED\n",
    "\n",
    "# covariance matrices\n",
    "S = np.cov(y[:1000,:].T)\n",
    "R = np.cov(y[1000:,:].T)\n",
    "\n",
    "# GED with optional scaling\n",
    "### try without the normalization!\n",
    "D,evecsGED = scipy.linalg.eigh(S,R)\n",
    "evecsGED /= np.sqrt(np.sum(evecsGED**2,axis=0))\n",
    "\n",
    "# component time series\n",
    "comps = evecsGED.T@y.T\n",
    "\n",
    "\n",
    "# plot the data with eigenvectors\n",
    "_,axs = plt.subplots(1,2,figsize=(6,3))\n",
    "axs[0].plot(y[:,0],y[:,1],'bo',markerfacecolor='y')\n",
    "axs[0].axis('square')\n",
    "axs[0].set_title('Data space')\n",
    "\n",
    "\n",
    "## plot the data in PC space\n",
    "axs[1].plot(comps[0,:],comps[1,:],'bo',markerfacecolor='y')\n",
    "axs[1].set_xlim([-2,2])\n",
    "axs[1].set_ylim([-2,2])\n",
    "axs[1].set_title('GED space')\n",
    "\n",
    "plt.tight_layout()\n",
    "plt.show()"
   ]
  }
 ],
 "metadata": {
  "kernelspec": {
   "display_name": "Python 3",
   "language": "python",
   "name": "python3"
  },
  "language_info": {
   "codemirror_mode": {
    "name": "ipython",
    "version": 3
   },
   "file_extension": ".py",
   "mimetype": "text/x-python",
   "name": "python",
   "nbconvert_exporter": "python",
   "pygments_lexer": "ipython3",
   "version": "3.7.3"
  }
 },
 "nbformat": 4,
 "nbformat_minor": 2
}
