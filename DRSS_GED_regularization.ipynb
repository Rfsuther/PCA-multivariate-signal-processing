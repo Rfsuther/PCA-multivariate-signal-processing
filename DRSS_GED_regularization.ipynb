{
 "cells": [
  {
   "cell_type": "markdown",
   "metadata": {},
   "source": [
    "# COURSE: PCA and multivariate neural signal processing\n",
    "## SECTION: Source separation with GED\n",
    "### VIDEO: Python: Effects of regularization in real data\n",
    "#### Instructor: sincxpress.com"
   ]
  },
  {
   "cell_type": "code",
   "execution_count": null,
   "metadata": {},
   "outputs": [],
   "source": [
    "import numpy as np\n",
    "import matplotlib.pyplot as plt\n",
    "import copy\n",
    "import scipy\n",
    "import scipy.io as sio\n",
    "from pytopo import topoplotIndie\n",
    "from filterFGxfun import filterFGx"
   ]
  },
  {
   "cell_type": "code",
   "execution_count": null,
   "metadata": {},
   "outputs": [],
   "source": [
    "# import the data\n",
    "\n",
    "matfile = sio.loadmat('sampleEEGdata.mat')\n",
    "EEG = matfile['EEG'][0,0]\n",
    "EEG['times'] = EEG['times'][0]\n",
    "EEG['data'] = np.double(EEG['data'])"
   ]
  },
  {
   "cell_type": "code",
   "execution_count": null,
   "metadata": {},
   "outputs": [],
   "source": [
    "# regularization amount\n",
    "regu_gam = .01\n",
    "\n",
    "# filter data in alpha\n",
    "centerFreq = 11\n",
    "freqFWHM = 4\n",
    "\n",
    "fdata = copy.deepcopy(EEG['data'])\n",
    "for ti in range(int(EEG['trials'])):\n",
    "    tmdat = EEG['data'][:,:,ti]\n",
    "    fdata[:,:,ti] = filterFGx(tmdat,EEG['srate'][0][0],centerFreq,freqFWHM)[0]"
   ]
  },
  {
   "cell_type": "code",
   "execution_count": null,
   "metadata": {},
   "outputs": [],
   "source": [
    "## GED on broadband vs. narrowband covariances\n",
    "\n",
    "# covariance matrices\n",
    "covB = np.zeros( (EEG['nbchan'][0][0],EEG['nbchan'][0][0]) )\n",
    "covF = np.zeros( (EEG['nbchan'][0][0],EEG['nbchan'][0][0]) )\n",
    "\n",
    "for ti in range(EEG['trials'][0][0]):\n",
    "    \n",
    "    # covariance of broadband\n",
    "    covB += np.cov(EEG['data'][:,:,ti])\n",
    "    \n",
    "    # covariance of post-stim period\n",
    "    covF += np.cov(fdata[:,:,ti])\n",
    "    \n",
    "# average covariances by dividing by trials\n",
    "covB = covB/ti\n",
    "covF = covF/ti\n",
    "\n",
    "\n",
    "\n",
    "###### regularization #####\n",
    "Rregu = (1-regu_gam)*covB + regu_gam*np.mean(np.linalg.eig(covB)[0])*np.eye(EEG['nbchan'][0][0])\n",
    "\n",
    "\n",
    "\n",
    "### GED\n",
    "evals,evecs = scipy.linalg.eigh(covF,Rregu)\n",
    "# sort according to eigenvalues\n",
    "soidx = np.argsort(evals)[::-1]\n",
    "evals = evals[soidx]\n",
    "evecs = evecs[:,soidx]\n",
    "\n",
    "# component time series\n",
    "tmpts = evecs[:,0].T @ np.reshape(EEG['data'],(EEG['nbchan'][0][0],-1),order='F')\n",
    "ts = np.reshape( tmpts,(EEG['pnts'][0][0],EEG['trials'][0][0]),order='F' )\n",
    "             \n",
    "# topomaps and time series\n",
    "topo = evecs[:,0].T@covF\n",
    "mv = np.argmax(np.abs(topo))\n",
    "if topo[mv]<0:\n",
    "    topo = -topo\n",
    "    ts = -ts"
   ]
  },
  {
   "cell_type": "code",
   "execution_count": null,
   "metadata": {},
   "outputs": [],
   "source": [
    "## some plotting\n",
    "\n",
    "_,axs = plt.subplots(2,1)\n",
    "# topoplot of component map\n",
    "topoplotIndie(topo,EEG['chanlocs'],'Component map',axs[0])\n",
    "\n",
    "\n",
    "# ERP\n",
    "axs[1].plot(EEG['times'],np.mean(ts,axis=1),'k',linewidth=3)\n",
    "axs[1].set_xlim([-200, 1000])\n",
    "plt.show()\n",
    "\n",
    "\n",
    "#### show both covariance matrices\n",
    "_,axs = plt.subplots(1,3)\n",
    "\n",
    "axs[0].imshow(covB,vmin=-150,vmax=150)\n",
    "axs[0].set_xticks([])\n",
    "axs[0].set_yticks([])\n",
    "axs[0].set_title('R matrix')\n",
    "\n",
    "axs[1].imshow(Rregu,vmin=-150,vmax=150)\n",
    "axs[1].set_xticks([])\n",
    "axs[1].set_yticks([])\n",
    "axs[1].set_title(f'R reg. ($\\gamma$={100*regu_gam}%)')\n",
    "\n",
    "\n",
    "axs[2].imshow(covB-Rregu,vmin=-10,vmax=10)\n",
    "axs[2].set_xticks([])\n",
    "axs[2].set_yticks([])\n",
    "axs[2].set_title('R - Rregu')\n",
    "\n",
    "\n",
    "plt.tight_layout()\n",
    "plt.show()"
   ]
  },
  {
   "cell_type": "code",
   "execution_count": null,
   "metadata": {},
   "outputs": [],
   "source": []
  }
 ],
 "metadata": {
  "kernelspec": {
   "display_name": "Python 3",
   "language": "python",
   "name": "python3"
  },
  "language_info": {
   "codemirror_mode": {
    "name": "ipython",
    "version": 3
   },
   "file_extension": ".py",
   "mimetype": "text/x-python",
   "name": "python",
   "nbconvert_exporter": "python",
   "pygments_lexer": "ipython3",
   "version": "3.7.3"
  }
 },
 "nbformat": 4,
 "nbformat_minor": 2
}
