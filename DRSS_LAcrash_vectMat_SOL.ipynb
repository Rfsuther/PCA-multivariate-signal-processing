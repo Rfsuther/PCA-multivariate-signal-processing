{
 "cells": [
  {
   "cell_type": "markdown",
   "metadata": {},
   "source": [
    "# COURSE: PCA and multivariate neural signal processing\n",
    "## SECTION: Linear algebra crash course\n",
    "### VIDEO: Python: Vectors and matrices (SOLUTIONS file)\n",
    "#### Instructor: sincxpress.com"
   ]
  },
  {
   "cell_type": "code",
   "execution_count": null,
   "metadata": {},
   "outputs": [],
   "source": [
    "import numpy as np\n",
    "import matplotlib.pyplot as plt\n",
    "from mpl_toolkits.mplot3d import Axes3D"
   ]
  },
  {
   "cell_type": "markdown",
   "metadata": {},
   "source": [
    "\n",
    "---\n",
    "# Visualizing vectors\n",
    "---\n"
   ]
  },
  {
   "cell_type": "code",
   "execution_count": null,
   "metadata": {},
   "outputs": [],
   "source": [
    "\n",
    "# 2-dimensional vector\n",
    "v2 = [ 3, -2 ]\n",
    "\n",
    "# 3-dimensional vector\n",
    "v3 = [ 4, -3, 2 ]\n",
    "\n",
    "# row to column (or vice-versa):\n",
    "v3t = np.transpose(v3)\n",
    "\n",
    "\n",
    "# plot them\n",
    "plt.plot([0,v2[0]],[0,v2[1]])\n",
    "plt.axis('equal')\n",
    "plt.plot([-4, 4],[0, 0],'k--')\n",
    "plt.plot([0, 0],[-4, 4],'k--')\n",
    "plt.grid()\n",
    "plt.axis((-4, 4, -4, 4))\n",
    "plt.show()\n",
    "\n",
    "\n",
    "# plot the 3D vector\n",
    "fig = plt.figure(figsize=plt.figaspect(1))\n",
    "ax = plt.axes(None, projection='3d')\n",
    "ax.plot([0, v3[0]],[0, v3[1]],[0, v3[2]],linewidth=3)\n",
    "\n",
    "# make the plot look nicer\n",
    "ax.plot([0, 0],[0, 0],[-4, 4],'k--')\n",
    "ax.plot([0, 0],[-4, 4],[0, 0],'k--')\n",
    "ax.plot([-4, 4],[0, 0],[0, 0],'k--')\n",
    "plt.show()"
   ]
  },
  {
   "cell_type": "code",
   "execution_count": null,
   "metadata": {},
   "outputs": [],
   "source": [
    "# Vector-scalar multiplication\n",
    "\n",
    "# vector and scalar\n",
    "v1 = np.array([ 3, -1 ])\n",
    "l  = 2.3\n",
    "v1m = v1*l # scalar-modulated\n",
    "\n",
    "# plot them\n",
    "plt.plot([0, v1[0]],[0, v1[1]],'b',label='$v_1$')\n",
    "plt.plot([0, v1m[0]],[0, v1m[1]],'r:',label='$\\lambda v_1$')\n",
    "\n",
    "plt.legend()\n",
    "plt.axis('square')\n",
    "axlim = max([max(abs(v1)),max(abs(v1m))])*1.5 # dynamic axis lim\n",
    "plt.axis((-axlim,axlim,-axlim,axlim))\n",
    "plt.grid()\n",
    "plt.show()\n",
    "\n",
    "\n",
    "# QUESTION: What happens when the scalar is >1, <1, <0, and =0?\n"
   ]
  },
  {
   "cell_type": "code",
   "execution_count": null,
   "metadata": {},
   "outputs": [],
   "source": [
    "# Transpose operation\n",
    "\n",
    "# note: for the .T method, we need to convert to numpy\n",
    "v3 = np.array(v3)\n",
    "\n",
    "print(v3)\n",
    "\n",
    "# transpose\n",
    "print(v3.T)\n",
    "\n",
    "# double-transpose\n",
    "print(v3.T.T)\n",
    "\n",
    "# observe the sizes\n",
    "print( np.shape( v3 ))\n",
    "print( np.shape( v3.T ))\n"
   ]
  },
  {
   "cell_type": "code",
   "execution_count": null,
   "metadata": {},
   "outputs": [],
   "source": [
    "# AAAHHHH!!! transposing didn't change it! That's because numpy distinguishes between \n",
    "# orientation-less and orientation vectors. So we need to \"reshape\" v3 to be a row vector.\n",
    "\n",
    "v3 = np.reshape(v3,(-1,1))\n",
    "\n",
    "print(v3), print(' ')\n",
    "\n",
    "# transpose\n",
    "print(v3.T), print(' ')\n",
    "\n",
    "# double-transpose\n",
    "print(v3.T.T), print(' ')\n",
    "\n",
    "# observe the sizes\n",
    "print( np.shape( v3 ))\n",
    "print( np.shape( v3.T ))\n"
   ]
  },
  {
   "cell_type": "markdown",
   "metadata": {},
   "source": [
    "---\n",
    "# OMG it's the dot product!\n",
    "---"
   ]
  },
  {
   "cell_type": "code",
   "execution_count": null,
   "metadata": {},
   "outputs": [],
   "source": [
    "## many ways to compute the dot product\n",
    "\n",
    "v1 = np.array([ 1, 2, 3, 4, 5, 6 ])\n",
    "v2 = np.array([ 0, 8, -4, -3, 6, 5 ])\n",
    "\n",
    "# the math\n",
    "dp1 = sum( np.multiply(v1,v2) )\n",
    "\n",
    "# the function\n",
    "dp2 = np.dot( v1,v2 )\n",
    "\n",
    "print(dp1,dp2)\n",
    "\n",
    "\n",
    "# QUESTION: Is the dot product affected by where you scalar-multiply?\n",
    "#           To find out, create a scalar s and use it to multiply:\n",
    "#           1) v1\n",
    "#           2) v2\n",
    "#           3) dot(v1,v2)\n",
    "#           Do the results differ?\n"
   ]
  },
  {
   "cell_type": "markdown",
   "metadata": {},
   "source": [
    "---\n",
    "# Creating and working with matrices\n",
    "---"
   ]
  },
  {
   "cell_type": "code",
   "execution_count": null,
   "metadata": {},
   "outputs": [],
   "source": [
    "# matrix sizes\n",
    "m = 14\n",
    "n = 8\n",
    "\n",
    "# random matrix\n",
    "A = np.random.randn(m,n)\n",
    "print(np.shape(A))"
   ]
  },
  {
   "cell_type": "code",
   "execution_count": null,
   "metadata": {},
   "outputs": [],
   "source": [
    "# MxM identity matrix\n",
    "I = np.eye(m)\n",
    "I"
   ]
  },
  {
   "cell_type": "code",
   "execution_count": null,
   "metadata": {},
   "outputs": [],
   "source": [
    "# diagonal\n",
    "d  = [ 1, 2, 4, 9, 15 ]\n",
    "D  = np.diag(d)\n",
    "dd = np.diag(D)\n",
    "\n",
    "print(D), print(' ')\n",
    "print(d)"
   ]
  },
  {
   "cell_type": "code",
   "execution_count": null,
   "metadata": {},
   "outputs": [],
   "source": [
    "# symmetric\n",
    "S = A.T@A # you'll learn later why this is symmetric\n",
    "print(np.shape(A)) # size of A\n",
    "print(np.shape(S)) # size of S\n",
    "\n",
    "# if the matrix is symmetric, then it should equal its transpose:\n",
    "S.T - S\n",
    "\n",
    "# QUESTION: We haven't yet discussed diagonal or symmetric matrices. \n",
    "#           But based on this code, what do you think are the definitions\n",
    "#           of diagonal and symmetric matrices?\n",
    "#           Hint: for symmetric matrices, think about the sizes of matrix\n",
    "#           multiplications. "
   ]
  },
  {
   "cell_type": "code",
   "execution_count": null,
   "metadata": {},
   "outputs": [],
   "source": [
    "\n",
    "# create random matrices\n",
    "A = np.random.randn(5,4)\n",
    "B = np.random.randn(5,3)\n",
    "C = np.random.randn(5,4)\n",
    "\n",
    "# try to add them\n",
    "A+B\n",
    "A+C\n"
   ]
  },
  {
   "cell_type": "code",
   "execution_count": null,
   "metadata": {},
   "outputs": [],
   "source": [
    "# scalar multiplication\n",
    "M = np.round( np.random.randn(2,3)*10 )\n",
    "s = 2\n",
    "\n",
    "print( M ), print(' ')\n",
    "print( s*M ), print(' ')\n",
    "print( M*s )"
   ]
  },
  {
   "cell_type": "markdown",
   "metadata": {},
   "source": [
    "---\n",
    "# Matrix multiplications\n",
    "---"
   ]
  },
  {
   "cell_type": "code",
   "execution_count": null,
   "metadata": {},
   "outputs": [],
   "source": [
    "## rules for multiplication validity\n",
    "\n",
    "m = 4\n",
    "n = 3\n",
    "k = 6\n",
    "\n",
    "# make some matrices\n",
    "A = np.random.randn(m,n)\n",
    "B = np.random.randn(n,k)\n",
    "C = np.random.randn(m,k)\n",
    "\n",
    "# test which multiplications are valid.\n",
    "# Think of your answer first, then test.\n",
    "np.matmul(A,B)\n",
    "np.matmul(A,A)\n",
    "np.matmul(A.T,C)\n",
    "np.matmul(B,B.T)\n",
    "np.matmul(np.matrix.transpose(B),B)\n",
    "np.matmul(B,C)\n",
    "np.matmul(C,B)\n",
    "np.matmul(C.T,B)\n",
    "np.matmul(C,B.T)"
   ]
  },
  {
   "cell_type": "code",
   "execution_count": null,
   "metadata": {},
   "outputs": [],
   "source": [
    "# LIVE EVIL! (aka, order of operations)\n",
    "\n",
    "n = 7\n",
    "L = np.random.randn(n,n)\n",
    "I = np.random.randn(n,n)\n",
    "V = np.random.randn(n,n)\n",
    "E = np.random.randn(n,n)\n",
    "\n",
    "# result of \"forward\" multiplication and then transpose\n",
    "res1 = np.matrix.transpose( L @ I @ V @ E )\n",
    "\n",
    "# result of \"flipped\" multiplication of transposed matrices\n",
    "res2 = E.T @ V.T @ I.T @ L.T\n",
    "\n",
    "# test equality by subtracting (round to ignore possible computer rounding errors)\n",
    "np.round( res1-res2 ,3)"
   ]
  },
  {
   "cell_type": "code",
   "execution_count": null,
   "metadata": {},
   "outputs": [],
   "source": []
  },
  {
   "cell_type": "code",
   "execution_count": null,
   "metadata": {},
   "outputs": [],
   "source": []
  }
 ],
 "metadata": {
  "kernelspec": {
   "display_name": "Python 3",
   "language": "python",
   "name": "python3"
  },
  "language_info": {
   "codemirror_mode": {
    "name": "ipython",
    "version": 3
   },
   "file_extension": ".py",
   "mimetype": "text/x-python",
   "name": "python",
   "nbconvert_exporter": "python",
   "pygments_lexer": "ipython3",
   "version": "3.7.3"
  }
 },
 "nbformat": 4,
 "nbformat_minor": 2
}
