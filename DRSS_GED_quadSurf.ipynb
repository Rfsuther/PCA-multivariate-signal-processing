{
 "cells": [
  {
   "cell_type": "markdown",
   "metadata": {},
   "source": [
    "# COURSE: PCA and multivariate neural signal processing\n",
    "## SECTION: Source separation with GED\n",
    "### VIDEO: Python: Quadratic form surfaces and GED\n",
    "#### Instructor: sincxpress.com"
   ]
  },
  {
   "cell_type": "code",
   "execution_count": null,
   "metadata": {},
   "outputs": [],
   "source": [
    "import numpy as np\n",
    "import matplotlib.pyplot as plt\n",
    "from mpl_toolkits.mplot3d import Axes3D\n",
    "\n",
    "# NOTE: numpy does not solve the GED, so we use scipy\n",
    "import scipy.linalg"
   ]
  },
  {
   "cell_type": "code",
   "execution_count": null,
   "metadata": {},
   "outputs": [],
   "source": [
    "## quadratic forms of S, R, and S/R\n",
    "\n",
    "# create two little matrices\n",
    "S = np.array([ [1,2],  [2,9]  ])\n",
    "R = np.array([ [2,-1], [-1,4] ])\n",
    "\n",
    "\n",
    "# weights along each dimension\n",
    "wi = np.arange(-2,2,.1)\n",
    "\n",
    "# initialize\n",
    "quadformS = np.zeros( (len(wi),len(wi)) )\n",
    "quadformR = np.zeros( (len(wi),len(wi)) )\n",
    "quadformG = np.full( (len(wi),len(wi)),np.nan )\n",
    "\n",
    "# fudge-factor for preventing the surface from running off\n",
    "fudge = .1\n",
    "\n",
    "for i in range(len(wi)):\n",
    "    for j in range(len(wi)):\n",
    "        \n",
    "        # define the weights for this iteration\n",
    "        w  = np.array([ wi[i], wi[j] ]).T\n",
    "        nf = w.T@w\n",
    "        \n",
    "        # quadratic form of matrix S\n",
    "        quadformS[i,j] = w.T @ S @ w / nf\n",
    "        \n",
    "        # QF of matrix R\n",
    "        quadformR[i,j] = w.T @ R @ w / nf\n",
    "        \n",
    "        # QF of ratio\n",
    "        quadformG[i,j] = (w.T@S@w+fudge) / (w.T@R@w+fudge)\n",
    "        \n",
    "\n",
    "\n",
    "# eigenvectors of S and R\n",
    "evals,evecsS = np.linalg.eig(S)\n",
    "evals,evecsR = np.linalg.eig(R)\n",
    "\n",
    "# eigenvectors from GED\n",
    "evals,evecsGED = scipy.linalg.eigh(S,R)\n"
   ]
  },
  {
   "cell_type": "code",
   "execution_count": null,
   "metadata": {},
   "outputs": [],
   "source": [
    "## visualize the eigenvectors\n",
    "\n",
    "# eigenvectors of S\n",
    "plt.plot([0,evecsS[0,0]],[0,evecsS[1,0]],'r',linewidth=3,label='S_1')\n",
    "plt.plot([0,evecsS[0,1]],[0,evecsS[1,1]],'r',linewidth=3,label='S_2')\n",
    "\n",
    "# eigenvectors of R\n",
    "plt.plot([0,evecsR[0,0]],[0,evecsR[1,0]],'m',linewidth=3,label='R_1')\n",
    "plt.plot([0,evecsR[0,1]],[0,evecsR[1,1]],'m',linewidth=3,label='R_2')\n",
    "\n",
    "# eigenvectors of GED\n",
    "plt.plot([0,evecsGED[0,0]],[0,evecsGED[1,0]],'k',linewidth=3,label='GED_1')\n",
    "plt.plot([0,evecsGED[0,1]],[0,evecsGED[1,1]],'k',linewidth=3,label='GED_2')\n",
    "\n",
    "plt.axis('square')\n",
    "plt.xlim([-1,1])\n",
    "plt.ylim([-1,1])\n",
    "plt.grid()\n",
    "plt.legend()\n",
    "plt.title('Eigenvectors')\n",
    "plt.show()"
   ]
  },
  {
   "cell_type": "code",
   "execution_count": null,
   "metadata": {},
   "outputs": [],
   "source": [
    "# Show that V'V=I only for the eigenvectors of S and R (not for GED)\n",
    "\n",
    "_,axs = plt.subplots(1,3,figsize=(9,4))\n",
    "\n",
    "axs[0].imshow( evecsS.T@evecsS ,vmin=0,vmax=1)\n",
    "axs[0].set_title('$W_S^TW_S$')\n",
    "\n",
    "axs[1].imshow( evecsR.T@evecsR ,vmin=0,vmax=1)\n",
    "axs[1].set_title('$W_R^TW_R$')\n",
    "\n",
    "axs[2].imshow( evecsGED.T@evecsGED ,vmin=0,vmax=1)\n",
    "axs[2].set_title('$W_G^TW_G$')\n",
    "\n",
    "plt.show()"
   ]
  },
  {
   "cell_type": "code",
   "execution_count": null,
   "metadata": {},
   "outputs": [],
   "source": [
    "# show the quadratic form surfaces\n",
    "_,axs = plt.subplots(1,3,figsize=(6,3))\n",
    "\n",
    "axs[0].imshow(quadformS,extent=[wi[0],wi[-1],wi[-1],wi[0]])\n",
    "axs[0].set_title('Quadratic form of S')\n",
    "\n",
    "axs[1].imshow(quadformR,extent=[wi[0],wi[-1],wi[-1],wi[0]])\n",
    "axs[1].set_title('Quadratic form of R')\n",
    "\n",
    "axs[2].imshow(quadformG,extent=[wi[0],wi[-1],wi[-1],wi[0]])\n",
    "axs[2].set_title('Quadratic form of S/R')\n",
    "\n",
    "plt.tight_layout()\n",
    "plt.show()"
   ]
  },
  {
   "cell_type": "code",
   "execution_count": null,
   "metadata": {},
   "outputs": [],
   "source": []
  }
 ],
 "metadata": {
  "kernelspec": {
   "display_name": "Python 3",
   "language": "python",
   "name": "python3"
  },
  "language_info": {
   "codemirror_mode": {
    "name": "ipython",
    "version": 3
   },
   "file_extension": ".py",
   "mimetype": "text/x-python",
   "name": "python",
   "nbconvert_exporter": "python",
   "pygments_lexer": "ipython3",
   "version": "3.7.3"
  }
 },
 "nbformat": 4,
 "nbformat_minor": 2
}
