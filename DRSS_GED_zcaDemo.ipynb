{
 "cells": [
  {
   "cell_type": "markdown",
   "metadata": {},
   "source": [
    "# COURSE: PCA and multivariate neural signal processing\n",
    "## SECTION: Source separation with GED\n",
    "### VIDEO: Python: ZCA demo\n",
    "#### Instructor: sincxpress.com"
   ]
  },
  {
   "cell_type": "code",
   "execution_count": null,
   "metadata": {},
   "outputs": [],
   "source": [
    "import numpy as np\n",
    "import matplotlib.pyplot as plt\n",
    "from scipy.linalg import sqrtm"
   ]
  },
  {
   "cell_type": "code",
   "execution_count": null,
   "metadata": {},
   "outputs": [],
   "source": [
    "## illustration of negative-square root exponentiation\n",
    "\n",
    "d = np.linspace(.2,2,14)\n",
    "\n",
    "plt.plot(d,d**(-1/2),'ks-',linewidth=2,markerfacecolor='w',markersize=13)\n",
    "plt.plot([d[0],1],[1,1],'k--')\n",
    "plt.plot([1,1],[0,1],'k--')\n",
    "plt.axis('square')\n",
    "plt.xlabel('d')\n",
    "plt.ylabel('d$^{-1/2}$')\n",
    "plt.show()"
   ]
  },
  {
   "cell_type": "code",
   "execution_count": null,
   "metadata": {},
   "outputs": [],
   "source": [
    "## generate 2D data\n",
    "\n",
    "# number of data points\n",
    "N = 1000\n",
    "\n",
    "\n",
    "# part 1 of the data\n",
    "x1 = np.hstack( (1*np.random.randn(N//2,1), .1*np.random.randn(N//2,1)) )\n",
    "# rotation matrix\n",
    "th = np.pi/4\n",
    "R1 = np.array([ [np.cos(th), -np.sin(th)], \n",
    "                [np.sin(th),  np.cos(th)] ])\n",
    "\n",
    "\n",
    "# part 2 of the data\n",
    "x2 = np.hstack( (1*np.random.randn(N//2,1), .1*np.random.randn(N//2,1)) )\n",
    "# note the different rotation angle\n",
    "th = np.pi\n",
    "R2 = np.array([ [np.cos(th), -np.sin(th)], \n",
    "                [np.sin(th),  np.cos(th)] ])\n",
    "\n",
    "\n",
    "\n",
    "# combine and rotate data\n",
    "y = np.vstack( (x1@R1,x2@R2) )\n"
   ]
  },
  {
   "cell_type": "code",
   "execution_count": null,
   "metadata": {},
   "outputs": [],
   "source": [
    "## eigendecomposition for PCA and ZCA\n",
    "\n",
    "# eig of y\n",
    "y -= np.mean(y,axis=0)\n",
    "covmat = y.T@y / (len(y)-1)\n",
    "d,V = np.linalg.eig(covmat)\n",
    "\n",
    "# create diagonal matrix from eigenvalues\n",
    "D = np.diag(d)\n",
    "\n",
    "\n",
    "# component data\n",
    "c = y@V\n",
    "\n",
    "\n",
    "\n",
    "# ZCA\n",
    "DinvSqrt = sqrtm(np.linalg.inv(D))\n",
    "yz = ( V@DinvSqrt@V.T@y.T ).T\n",
    "\n",
    "# now PCA of ZCA data (question: Do you need the N-1 scaling?)\n",
    "Dz,Vz = np.linalg.eig( yz.T@yz )\n",
    "cz = yz@Vz"
   ]
  },
  {
   "cell_type": "code",
   "execution_count": null,
   "metadata": {},
   "outputs": [],
   "source": [
    "## plotting\n",
    "\n",
    "_,axs = plt.subplots(2,2,figsize=(6,6))\n",
    "\n",
    "# original data\n",
    "axs[0,0].plot(y[:,0],y[:,1],'o',markerfacecolor=(.9,.8,1))\n",
    "axs[0,0].plot([0,V[0,0]],[0,V[1,0]],'k',linewidth=4)\n",
    "axs[0,0].plot([0,V[0,1]],[0,V[1,1]],'k',linewidth=4)\n",
    "axs[0,0].set_xlabel('y_1')\n",
    "axs[0,0].set_ylabel('y_2')\n",
    "axs[0,0].set_xlim([-4,4])\n",
    "axs[0,0].set_ylim([-4,4])\n",
    "axs[0,0].set_aspect('equal')\n",
    "axs[0,0].set_title('Data')\n",
    "\n",
    "# component projections\n",
    "axs[0,1].plot(c[:,0],c[:,1],'o',markerfacecolor=(.9,.8,1))\n",
    "axs[0,1].set_xlabel('pc_1')\n",
    "axs[0,1].set_ylabel('pc_2')\n",
    "axs[0,1].set_xlim([-4,4])\n",
    "axs[0,1].set_ylim([-4,4])\n",
    "axs[0,1].set_aspect('equal')\n",
    "axs[0,1].set_title('PCA of data')\n",
    "\n",
    "\n",
    "\n",
    "# whitened data\n",
    "axs[1,0].plot(yz[:,0],yz[:,1],'o',markerfacecolor=(.9,.8,1))\n",
    "axs[1,0].plot([0,Vz[0,0]],[0,Vz[1,0]],'k',linewidth=4)\n",
    "axs[1,0].plot([0,Vz[0,1]],[0,Vz[1,1]],'k',linewidth=4)\n",
    "axs[1,0].set_xlabel('y_1')\n",
    "axs[1,0].set_ylabel('y_2')\n",
    "axs[1,0].set_xlim([-4,4])\n",
    "axs[1,0].set_ylim([-4,4])\n",
    "axs[1,0].set_aspect('equal')\n",
    "axs[1,0].set_title('Whitened data')\n",
    "\n",
    "# component projections\n",
    "axs[1,1].plot(cz[:,0],cz[:,1],'o',markerfacecolor=(.9,.8,1))\n",
    "axs[1,1].set_xlabel('pc_1')\n",
    "axs[1,1].set_ylabel('pc_2')\n",
    "axs[1,1].set_xlim([-4,4])\n",
    "axs[1,1].set_ylim([-4,4])\n",
    "axs[1,1].set_aspect('equal')\n",
    "axs[1,1].set_title('PCA of whitened data')\n",
    "\n",
    "\n",
    "plt.tight_layout()\n",
    "plt.show()"
   ]
  },
  {
   "cell_type": "code",
   "execution_count": null,
   "metadata": {},
   "outputs": [],
   "source": []
  }
 ],
 "metadata": {
  "kernelspec": {
   "display_name": "Python 3",
   "language": "python",
   "name": "python3"
  },
  "language_info": {
   "codemirror_mode": {
    "name": "ipython",
    "version": 3
   },
   "file_extension": ".py",
   "mimetype": "text/x-python",
   "name": "python",
   "nbconvert_exporter": "python",
   "pygments_lexer": "ipython3",
   "version": "3.7.3"
  }
 },
 "nbformat": 4,
 "nbformat_minor": 2
}
