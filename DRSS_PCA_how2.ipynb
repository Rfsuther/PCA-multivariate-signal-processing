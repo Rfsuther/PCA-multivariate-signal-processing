{
 "cells": [
  {
   "cell_type": "markdown",
   "metadata": {},
   "source": [
    "# COURSE: PCA and multivariate neural signal processing\n",
    "## SECTION: Dimension reduction with PCA\n",
    "### VIDEO: Python: How to perform a principal components analysis\n",
    "#### Instructor: sincxpress.com"
   ]
  },
  {
   "cell_type": "code",
   "execution_count": null,
   "metadata": {},
   "outputs": [],
   "source": [
    "import numpy as np\n",
    "import matplotlib.pyplot as plt"
   ]
  },
  {
   "cell_type": "code",
   "execution_count": null,
   "metadata": {},
   "outputs": [],
   "source": [
    "## simulate data with covariance structure\n",
    "\n",
    "# simulation parameters\n",
    "N = 1000     # time points\n",
    "M =   20     # channels\n",
    "\n",
    "# time vector (radian units)\n",
    "t = np.linspace(0,6*np.pi,N)\n",
    "\n",
    "\n",
    "# relationship across channels (imposing covariance)\n",
    "chanrel = np.sin(np.linspace(0,2*np.pi,M))\n",
    "\n",
    "# create the data\n",
    "data = np.outer(np.sin(t),chanrel).T + np.random.randn(M,N)\n",
    "\n",
    "# view the data\n",
    "plt.pcolormesh(data)\n",
    "plt.xlabel('Time (a.u.)')\n",
    "plt.ylabel('Channel')\n",
    "plt.show()"
   ]
  },
  {
   "cell_type": "code",
   "execution_count": null,
   "metadata": {},
   "outputs": [],
   "source": [
    "## 6-step procedure for PCA\n",
    "\n",
    "# step 1: mean-center and compute covariance matrix\n",
    "for ci in range(M):\n",
    "    data[ci,:] -= np.mean(data[ci,:])\n",
    "\n",
    "covmat = data@data.T / (N-1)\n",
    "\n",
    "\n",
    "# step 2: eigendecomposition\n",
    "evals,evecs = np.linalg.eig( covmat )\n",
    "\n",
    "\n",
    "# step 3: sort vectors by values\n",
    "soidx = np.argsort(evals)\n",
    "soidx = soidx[::-1]\n",
    "evals = evals[soidx]\n",
    "evecs = evecs[:,soidx]\n",
    "\n",
    "\n",
    "# step 4: compute component time series\n",
    "r = 2 # two components\n",
    "comp_time_series = evecs[:,0:r].T@data\n",
    "\n",
    "# step 5: convert eigenvalues to percent change\n",
    "evals = 100*evals / np.sum(evals)"
   ]
  },
  {
   "cell_type": "code",
   "execution_count": null,
   "metadata": {},
   "outputs": [],
   "source": [
    "# step 6: visualize and interpret the results\n",
    "\n",
    "# eigenvalues\n",
    "plt.subplot(131)\n",
    "plt.plot(evals,'s-')\n",
    "plt.xlabel('Component number')\n",
    "plt.ylabel('$\\lambda$')\n",
    "\n",
    "# eigenvectors\n",
    "plt.subplot(132)\n",
    "plt.plot(evecs[:,0:1],'s-',label=('PC1','PC2'))\n",
    "plt.xlabel('Channel')\n",
    "plt.ylabel('PC weight')\n",
    "plt.legend()\n",
    "\n",
    "# original channel modulator\n",
    "plt.subplot(133)\n",
    "plt.plot(chanrel,'s-')\n",
    "plt.xlabel('Channel')\n",
    "plt.ylabel('PC weight')\n",
    "plt.show()\n",
    "\n",
    "# component time series\n",
    "plt.plot(comp_time_series.T)\n",
    "plt.xlabel('Time (a.u.)')\n",
    "plt.ylabel('Activity')\n",
    "plt.legend(('PC1','PC2'))\n",
    "plt.tight_layout()\n",
    "plt.show()"
   ]
  }
 ],
 "metadata": {
  "kernelspec": {
   "display_name": "Python 3",
   "language": "python",
   "name": "python3"
  },
  "language_info": {
   "codemirror_mode": {
    "name": "ipython",
    "version": 3
   },
   "file_extension": ".py",
   "mimetype": "text/x-python",
   "name": "python",
   "nbconvert_exporter": "python",
   "pygments_lexer": "ipython3",
   "version": "3.7.3"
  }
 },
 "nbformat": 4,
 "nbformat_minor": 2
}
