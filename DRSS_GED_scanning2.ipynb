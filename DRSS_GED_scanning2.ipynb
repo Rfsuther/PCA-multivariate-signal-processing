{
 "cells": [
  {
   "cell_type": "markdown",
   "metadata": {},
   "source": [
    "# COURSE: PCA and multivariate neural signal processing\n",
    "## SECTION: Source separation with GED\n",
    "### VIDEO: Spectral scanning in EEG data\n",
    "#### Instructor: sincxpress.com"
   ]
  },
  {
   "cell_type": "code",
   "execution_count": null,
   "metadata": {},
   "outputs": [],
   "source": [
    "import numpy as np\n",
    "import matplotlib.pyplot as plt\n",
    "import copy\n",
    "import scipy\n",
    "import scipy.io as sio\n",
    "from pytopo import topoplotIndie\n",
    "from filterFGxfun import filterFGx\n",
    "\n",
    "# For more about this method, see:\n",
    "# de Cheveigne and Arzounian (2015) Journal of Neural Engineering"
   ]
  },
  {
   "cell_type": "code",
   "execution_count": null,
   "metadata": {},
   "outputs": [],
   "source": [
    "matfile = sio.loadmat('../matlab/CEdata.mat')\n",
    "EEG = matfile['EEG'][0,0]\n",
    "EEG['times'] = EEG['times'][0]\n",
    "EEG['data'] = np.double(EEG['data']) ## higher accuracy with double-precision data"
   ]
  },
  {
   "cell_type": "code",
   "execution_count": null,
   "metadata": {},
   "outputs": [],
   "source": [
    "# parameters and initializations\n",
    "\n",
    "# specify frequencies in Hz\n",
    "minFreq =  2\n",
    "maxFreq = 30\n",
    "numFreq = 35\n",
    "\n",
    "frex = np.linspace(minFreq,maxFreq,numFreq)\n",
    "\n",
    "# initialize\n",
    "eigsAll = np.zeros(numFreq)\n",
    "maps    = np.zeros((numFreq,EEG['nbchan'][0][0]))"
   ]
  },
  {
   "cell_type": "code",
   "execution_count": null,
   "metadata": {},
   "outputs": [],
   "source": [
    "## find narrowband components\n",
    "\n",
    "# compute R matrix (not inside frequency loop!)\n",
    "tmpdata = np.reshape(EEG['data'],(EEG['nbchan'][0][0],-1),order='F')\n",
    "bcov = np.cov(tmpdata)\n",
    "\n",
    "for fi in range(numFreq):\n",
    "    \n",
    "    # narrowband filter the data\n",
    "    fdat = copy.deepcopy(EEG['data'])\n",
    "    for ti in range(int(EEG['trials'])):\n",
    "        tmdat = EEG['data'][:,:,ti]\n",
    "        fdat[:,:,ti] = filterFGx(tmdat,EEG['srate'][0][0],frex[fi],5)[0]\n",
    "    \n",
    "    # compute S matrix\n",
    "    fdat = np.reshape(fdat,(EEG['nbchan'][0][0],-1),order='F')\n",
    "    fcov = np.cov(fdat)\n",
    "    \n",
    "    # GED\n",
    "    evals,evecs = scipy.linalg.eigh(fcov,bcov)\n",
    "    sidx  = np.argsort(evals)[::-1]\n",
    "    evals = evals[sidx]\n",
    "    evecs = evecs[:,sidx]\n",
    "    \n",
    "    # save eigenvalues\n",
    "    eigsAll[fi] = evals[0]\n",
    "    \n",
    "    # fix sign and store maps\n",
    "    tmap       = evecs[:,0].T @ fcov\n",
    "    maxe       = np.argmax(np.abs(tmap))\n",
    "    maps[fi,:] = tmap * np.sign(tmap[maxe])"
   ]
  },
  {
   "cell_type": "code",
   "execution_count": null,
   "metadata": {},
   "outputs": [],
   "source": [
    "## plot\n",
    "\n",
    "# frequencies (in Hz) for topographical inspection\n",
    "# note: code is currently hard-coded to three frequencies!\n",
    "frex4topos = [ 4, 11, 22 ]\n",
    "\n",
    "plt.plot(frex,eigsAll,'ko-',markerfacecolor='w',markersize=10,linewidth=2)\n",
    "\n",
    "# plot lines to indicate frequencies\n",
    "for f in frex4topos:\n",
    "    plt.plot([f,f],[0,np.max(eigsAll)],'k--',linewidth=.3)\n",
    "\n",
    "plt.xlabel('Frequency (Hz)')\n",
    "plt.ylabel('\\lambda')\n",
    "plt.show()\n",
    "\n",
    "\n",
    "_,axs = plt.subplots(1,3,figsize=(10,5))\n",
    "for i in range(3):\n",
    "    # frequency index\n",
    "    fidx = np.argmin(np.abs(frex-frex4topos[i]))\n",
    "    \n",
    "    # topomap\n",
    "    topoplotIndie(maps[fidx,:],EEG['chanlocs'],f'{frex[fidx]:.1f} Hz',axs[i])"
   ]
  },
  {
   "cell_type": "code",
   "execution_count": null,
   "metadata": {},
   "outputs": [],
   "source": []
  }
 ],
 "metadata": {
  "kernelspec": {
   "display_name": "Python 3",
   "language": "python",
   "name": "python3"
  },
  "language_info": {
   "codemirror_mode": {
    "name": "ipython",
    "version": 3
   },
   "file_extension": ".py",
   "mimetype": "text/x-python",
   "name": "python",
   "nbconvert_exporter": "python",
   "pygments_lexer": "ipython3",
   "version": "3.7.4"
  }
 },
 "nbformat": 4,
 "nbformat_minor": 2
}
