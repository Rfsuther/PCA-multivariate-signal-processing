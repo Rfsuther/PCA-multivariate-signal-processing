{
 "cells": [
  {
   "cell_type": "markdown",
   "metadata": {},
   "source": [
    "# COURSE: PCA and multivariate neural signal processing\n",
    "## SECTION: Dimension reduction with PCA\n",
    "### VIDEO: PCA intuition with scatter plots and covariance surfaces\n",
    "#### Instructor: sincxpress.com"
   ]
  },
  {
   "cell_type": "code",
   "execution_count": null,
   "metadata": {},
   "outputs": [],
   "source": [
    "import numpy as np\n",
    "import matplotlib.pyplot as plt"
   ]
  },
  {
   "cell_type": "code",
   "execution_count": null,
   "metadata": {},
   "outputs": [],
   "source": [
    "## PCA on simulated data\n",
    "\n",
    "# data\n",
    "x = np.random.randn(1000,2)\n",
    "x[:,1] = .4*x[:,1]\n",
    "\n",
    "# rotation matrix\n",
    "th = np.pi/4 # theta\n",
    "R1 = [ [np.cos(th),-np.sin(th)], [np.sin(th),np.cos(th)] ]\n",
    "\n",
    "# rotate data to induce correlation\n",
    "y = x@R1\n",
    "\n",
    "# PCA of y (correlated data)\n",
    "for i in range(2):\n",
    "    y[:,i] -= np.mean( y[:,i] )\n",
    "\n",
    "covmat = y.T@y / (len(y)-1)\n",
    "evals,evecs = np.linalg.eig(covmat)\n"
   ]
  },
  {
   "cell_type": "code",
   "execution_count": null,
   "metadata": {},
   "outputs": [],
   "source": [
    "## compute quadratic form\n",
    "\n",
    "# weights along each dimension\n",
    "xi = np.arange(-2,2,.1)\n",
    "\n",
    "quadform = np.zeros( (len(xi),len(xi)) )\n",
    "for i in range(len(xi)):\n",
    "    for j in range(len(xi)):\n",
    "        # define vector\n",
    "        x = np.array([ xi[i],xi[j] ])\n",
    "        \n",
    "        # QF\n",
    "        quadform[i,j] = x.T@covmat@x / (x.T@x)\n",
    "\n",
    "# fill in missing point with 0\n",
    "quadform[~np.isfinite(quadform)] = 0\n"
   ]
  },
  {
   "cell_type": "code",
   "execution_count": null,
   "metadata": {},
   "outputs": [],
   "source": [
    "## lots o' plotting\n",
    "\n",
    "\n",
    "# plot the data in a scatter plot\n",
    "plt.subplot(131)\n",
    "plt.plot(y[:,0],y[:,1],'m.')\n",
    "plt.axis('square')\n",
    "\n",
    "# plot the eigenvectors\n",
    "plt.plot([0,evecs[0,0]*evals[0]],[0,evecs[1,0]*evals[0]],'k')\n",
    "plt.plot([0,evecs[0,1]*evals[1]],[0,evecs[1,1]*evals[1]],'k')\n",
    "\n",
    "\n",
    "\n",
    "# show an image of the covariance matrix\n",
    "plt.subplot(132)\n",
    "plt.pcolor(covmat)\n",
    "plt.axis('square')\n",
    "\n",
    "\n",
    "\n",
    "# show the quadratic surface\n",
    "plt.subplot(133)\n",
    "plt.pcolor(xi,xi,quadform.T)\n",
    "\n",
    "# and the eigenvectors\n",
    "plt.plot([0,evecs[0,0]*evals[0]],[0,evecs[1,0]*evals[0]],'m')\n",
    "plt.plot([0,evecs[0,1]*evals[1]],[0,evecs[1,1]*evals[1]],'m')\n",
    "plt.axis('square')\n",
    "\n",
    "plt.show()"
   ]
  },
  {
   "cell_type": "code",
   "execution_count": null,
   "metadata": {},
   "outputs": [],
   "source": []
  }
 ],
 "metadata": {
  "kernelspec": {
   "display_name": "Python 3",
   "language": "python",
   "name": "python3"
  },
  "language_info": {
   "codemirror_mode": {
    "name": "ipython",
    "version": 3
   },
   "file_extension": ".py",
   "mimetype": "text/x-python",
   "name": "python",
   "nbconvert_exporter": "python",
   "pygments_lexer": "ipython3",
   "version": "3.7.3"
  }
 },
 "nbformat": 4,
 "nbformat_minor": 2
}
