{
 "cells": [
  {
   "cell_type": "markdown",
   "metadata": {},
   "source": [
    "# COURSE: PCA and multivariate neural signal processing\n",
    "## SECTION: Creating and interpreting covariance matrices\n",
    "### VIDEO: Python: Using real and simulated data\n",
    "#### Instructor: sincxpress.com"
   ]
  },
  {
   "cell_type": "code",
   "execution_count": null,
   "metadata": {},
   "outputs": [],
   "source": [
    "import numpy as np\n",
    "import matplotlib.pyplot as plt\n",
    "from mpl_toolkits.mplot3d import Axes3D\n",
    "import scipy.io as sio\n",
    "from pytopo import topoplotIndie"
   ]
  },
  {
   "cell_type": "code",
   "execution_count": null,
   "metadata": {},
   "outputs": [],
   "source": [
    "# load data\n",
    "matfile = sio.loadmat('sampleEEGdata')\n",
    "EEG = matfile['EEG'][0,0]"
   ]
  },
  {
   "cell_type": "code",
   "execution_count": null,
   "metadata": {},
   "outputs": [],
   "source": [
    "## creating topographical maps\n",
    "\n",
    "# parameters to select data\n",
    "timeidx  = np.argmin(np.abs(EEG['times']-230))\n",
    "trialidx = 10\n",
    "\n",
    "# grab one time slice\n",
    "data = EEG['data'][:,timeidx,trialidx]\n",
    "\n",
    "# visualize\n",
    "title = f\"Topography at {EEG['times'][0][timeidx]:.0f} ms, trial {trialidx}\"\n",
    "topoplotIndie( data, EEG['chanlocs'] ,title)\n"
   ]
  },
  {
   "cell_type": "code",
   "execution_count": null,
   "metadata": {},
   "outputs": [],
   "source": [
    "## simulate data\n",
    "\n",
    "# mat file containing EEG, leadfield and channel locations\n",
    "matfile = sio.loadmat('emptyEEG')\n",
    "EEG = matfile['EEG'][0,0]\n",
    "lf  = matfile['lf'][0,0]\n",
    "\n",
    "# get chanloc XY values\n",
    "x,y = [],[]\n",
    "for i in range(int(EEG['nbchan'])):\n",
    "    x.append(EEG['chanlocs'][0][i]['X'][0][0])\n",
    "    y.append(EEG['chanlocs'][0][i]['Y'][0][0])\n",
    "\n",
    "\n",
    "# index of dipole to simulate activity in\n",
    "diploc = 108\n",
    "\n",
    "# setup figure\n",
    "fig = plt.figure()\n",
    "ax  = Axes3D(fig)\n",
    "\n",
    "\n",
    "# plot brain dipoles\n",
    "ax.scatter(lf['GridLoc'][:,0], lf['GridLoc'][:,1], lf['GridLoc'][:,2], 'bo')\n",
    "ax.scatter(lf['GridLoc'][diploc,0], lf['GridLoc'][diploc,1], lf['GridLoc'][diploc,2], marker='o',s=100)\n",
    "plt.title('Brain dipole locations')\n",
    "plt.show()\n",
    "\n",
    "\n",
    "# Each dipole can be projected onto the scalp using the forward model. \n",
    "# The code below shows this projection from one dipole.\n",
    "topoplotIndie(-lf['Gain'][:,0,diploc],EEG['chanlocs'])\n"
   ]
  },
  {
   "cell_type": "code",
   "execution_count": null,
   "metadata": {},
   "outputs": [],
   "source": [
    "## create time series data\n",
    "\n",
    "# number of time points and time vector\n",
    "N = 1000\n",
    "EEG['times'] = np.arange(N)/EEG['srate'][0]\n",
    "\n",
    "\n",
    "# Random data in all brain dipoles\n",
    "dipole_data = np.random.randn(lf['Gain'].shape[2],N)\n",
    "\n",
    "# add signal to one dipole\n",
    "dipole_data[diploc,:] = 15*np.sin(2*np.pi*10*EEG['times'])\n",
    "\n",
    "# project data from all dipoles to scalp electrodes\n",
    "EEG['data'] = lf['Gain'][:,0,:]@dipole_data"
   ]
  },
  {
   "cell_type": "code",
   "execution_count": null,
   "metadata": {},
   "outputs": [],
   "source": [
    "## plot the time series data\n",
    "\n",
    "plt.plot(EEG['times'],EEG['data'][30,:],linewidth=2)\n",
    "plt.plot(EEG['times'],-dipole_data[diploc,:]*100,linewidth=2)\n",
    "plt.legend(['Chan','Dipole'])\n",
    "plt.xlabel('Time (s)')\n",
    "plt.show()"
   ]
  },
  {
   "cell_type": "code",
   "execution_count": null,
   "metadata": {},
   "outputs": [],
   "source": []
  }
 ],
 "metadata": {
  "kernelspec": {
   "display_name": "Python 3",
   "language": "python",
   "name": "python3"
  },
  "language_info": {
   "codemirror_mode": {
    "name": "ipython",
    "version": 3
   },
   "file_extension": ".py",
   "mimetype": "text/x-python",
   "name": "python",
   "nbconvert_exporter": "python",
   "pygments_lexer": "ipython3",
   "version": "3.7.3"
  }
 },
 "nbformat": 4,
 "nbformat_minor": 2
}
