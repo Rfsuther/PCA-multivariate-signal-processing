{
 "cells": [
  {
   "cell_type": "markdown",
   "metadata": {},
   "source": [
    "# COURSE: PCA and multivariate neural signal processing\n",
    "## SECTION: Creating and interpreting covariance matrices\n",
    "### VIDEO: Python: covariance with real data\n",
    "#### Instructor: sincxpress.com"
   ]
  },
  {
   "cell_type": "code",
   "execution_count": null,
   "metadata": {},
   "outputs": [],
   "source": [
    "import numpy as np\n",
    "import matplotlib.pyplot as plt\n",
    "import scipy.io as sio"
   ]
  },
  {
   "cell_type": "code",
   "execution_count": null,
   "metadata": {},
   "outputs": [],
   "source": [
    "# load data\n",
    "matfile = sio.loadmat('sampleEEGdata')\n",
    "EEG = matfile['EEG'][0,0]\n",
    "\n",
    "\n",
    "## average of single-trial covariances\n",
    "\n",
    "# specify time window (ms) for covariance matrix\n",
    "tidx1 = np.argmin(np.abs(EEG['times']))\n",
    "tidx2 = np.argmin(np.abs(EEG['times']-800))\n",
    "\n",
    "\n",
    "# loop over trials and compute covariance for each trial\n",
    "covmatT = np.zeros( (int(EEG['nbchan']),int(EEG['nbchan'])) )\n",
    "\n",
    "\n",
    "for triali in range(int(EEG['trials'])):\n",
    "    \n",
    "    # data from this trial and time window\n",
    "    tmpdat = EEG['data'][:,tidx1:tidx2,triali]\n",
    "    \n",
    "    # mean-center\n",
    "    for ci in range(int(EEG['nbchan'])):\n",
    "        tmpdat[ci,:] -= np.mean(tmpdat[ci,:])\n",
    "    # covariance\n",
    "    covmatT += tmpdat@tmpdat.T / (tidx2-tidx1)\n",
    "\n",
    "# divide by N\n",
    "covmatT = covmatT/EEG['trials']\n"
   ]
  },
  {
   "cell_type": "code",
   "execution_count": null,
   "metadata": {},
   "outputs": [],
   "source": [
    "## covariance of trial average\n",
    "\n",
    "# trial average\n",
    "erp = np.mean(EEG['data'][:,tidx1:tidx2,:],axis=2)\n",
    "\n",
    "# mean-center and covariance\n",
    "for ci in range(int(EEG['nbchan'])):\n",
    "    erp[ci,:] -= np.mean(erp[ci,:])\n",
    "\n",
    "covmatA = erp@erp.T / (tidx2-tidx1)\n"
   ]
  },
  {
   "cell_type": "code",
   "execution_count": null,
   "metadata": {},
   "outputs": [],
   "source": [
    "## show the covariance matrices\n",
    "\n",
    "plt.subplot(121)\n",
    "plt.pcolormesh(covmatT,vmin=-100,vmax=100)\n",
    "plt.axis('square')\n",
    "plt.xlabel('Channels')\n",
    "plt.ylabel('Channels')\n",
    "plt.title('Average of covariances')\n",
    "\n",
    "plt.subplot(122)\n",
    "plt.pcolormesh(covmatA,vmin=-100,vmax=100)\n",
    "plt.axis('square')\n",
    "plt.xlabel('Channels')\n",
    "plt.ylabel('Channels')\n",
    "plt.title('Covariance of average')\n",
    "\n",
    "plt.tight_layout()\n",
    "plt.show()"
   ]
  }
 ],
 "metadata": {
  "kernelspec": {
   "display_name": "Python 3",
   "language": "python",
   "name": "python3"
  },
  "language_info": {
   "codemirror_mode": {
    "name": "ipython",
    "version": 3
   },
   "file_extension": ".py",
   "mimetype": "text/x-python",
   "name": "python",
   "nbconvert_exporter": "python",
   "pygments_lexer": "ipython3",
   "version": "3.7.3"
  }
 },
 "nbformat": 4,
 "nbformat_minor": 2
}
