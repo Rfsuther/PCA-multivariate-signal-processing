{
 "cells": [
  {
   "cell_type": "markdown",
   "metadata": {},
   "source": [
    "# COURSE: PCA and multivariate neural signal processing\n",
    "## SECTION: Dimension reduction with PCA\n",
    "### VIDEO: Python: PCA of simulated data\n",
    "#### Instructor: sincxpress.com"
   ]
  },
  {
   "cell_type": "code",
   "execution_count": null,
   "metadata": {},
   "outputs": [],
   "source": [
    "import numpy as np\n",
    "import matplotlib.pyplot as plt\n",
    "from matplotlib import pyplot\n",
    "import scipy.io as sio\n",
    "from mpl_toolkits.mplot3d import Axes3D\n",
    "from pytopo import topoplotIndie"
   ]
  },
  {
   "cell_type": "code",
   "execution_count": null,
   "metadata": {},
   "outputs": [],
   "source": [
    "## simulate data\n",
    "\n",
    "# mat file containing EEG, leadfield and channel locations\n",
    "matfile = sio.loadmat('emptyEEG')\n",
    "EEG = matfile['EEG'][0,0]\n",
    "lf  = matfile['lf'][0,0]\n",
    "\n",
    "# get chanloc XY values\n",
    "x,y = [],[]\n",
    "for i in range(int(EEG['nbchan'])):\n",
    "    x.append(EEG['chanlocs'][0][i]['X'][0][0])\n",
    "    y.append(EEG['chanlocs'][0][i]['Y'][0][0])\n",
    "\n",
    "\n",
    "# index of dipole to simulate activity in\n",
    "diploc = 109\n",
    "\n",
    "# setup figure\n",
    "fig = pyplot.figure()\n",
    "ax  = Axes3D(fig)\n",
    "\n",
    "\n",
    "# plot brain dipoles\n",
    "ax.scatter(lf['GridLoc'][:,0], lf['GridLoc'][:,1], lf['GridLoc'][:,2], 'bo')\n",
    "ax.scatter(lf['GridLoc'][diploc,0], lf['GridLoc'][diploc,1], lf['GridLoc'][diploc,2], marker='o',s=100)\n",
    "plt.title('Brain dipole locations')\n",
    "plt.show()\n",
    "\n",
    "\n",
    "# Each dipole can be projected onto the scalp using the forward model. \n",
    "# The code below shows this projection from one dipole.\n",
    "topoplotIndie(-lf['Gain'][:,0,diploc],EEG['chanlocs'])\n"
   ]
  },
  {
   "cell_type": "code",
   "execution_count": null,
   "metadata": {},
   "outputs": [],
   "source": [
    "## create data\n",
    "\n",
    "# number of time points and time vector\n",
    "N = 1000\n",
    "EEG['times'] = np.arange(0,N) / EEG['srate'][0]\n",
    "\n",
    "lfshape = np.shape(lf['Gain'])\n",
    "\n",
    "# Random data in all brain dipoles\n",
    "dipole_data = np.random.randn(N,lfshape[2])\n",
    "\n",
    "# add signal to second half of dataset\n",
    "dipole_data[:,diploc] = 15*np.sin(2*np.pi*10*EEG['times'])\n",
    "\n",
    "# project data from all dipoles to scalp electrodes\n",
    "EEG['data'] = ( dipole_data@lf['Gain'][:,0,:].T ).T\n"
   ]
  },
  {
   "cell_type": "code",
   "execution_count": null,
   "metadata": {},
   "outputs": [],
   "source": [
    "## compute PCA\n",
    "\n",
    "# mean-center EEG data\n",
    "data = EEG['data']\n",
    "for ci in range(int(EEG['nbchan'])):\n",
    "    data[ci,:] -= np.mean(data[ci,:])\n",
    "\n",
    "# covariance matrix\n",
    "covd = data@data.T / (len(EEG['times']))\n",
    "\n",
    "# eigendecomposition\n",
    "evals,evecs = np.linalg.eig( covd )\n",
    "\n",
    "# sort according to eigenvalues\n",
    "soidx = np.argsort(evals)\n",
    "soidx = soidx[::-1]\n",
    "evals = evals[soidx]\n",
    "evecs = evecs[:,soidx]\n",
    "\n",
    "# convert eigenvalues to %change\n",
    "evals = 100*evals / np.sum(evals)\n",
    "\n",
    "# principal component time series\n",
    "pc_timeseries = evecs[:,0].T@EEG['data']"
   ]
  },
  {
   "cell_type": "code",
   "execution_count": null,
   "metadata": {},
   "outputs": [],
   "source": [
    "## plot results and compare with ground truth\n",
    "\n",
    "# eigenspectrum\n",
    "plt.plot(evals[0:20],'ko-')\n",
    "plt.title('Eigenspectrum')\n",
    "plt.ylabel('Percent variance')\n",
    "plt.xlabel('Component number')\n",
    "plt.show()\n",
    "\n",
    "\n",
    "# topographical map of first eigenvector\n",
    "_,axs = plt.subplots(1,2,figsize=(8,4))\n",
    "topoplotIndie(evecs[:,0],EEG['chanlocs'],'PC1',axs[0])\n",
    "\n",
    "# topographical map of dipole (ground truth)\n",
    "topoplotIndie(-lf['Gain'][:,0,diploc],EEG['chanlocs'],'Truth',axs[1])\n",
    "plt.show()\n",
    "\n",
    "\n",
    "# plot time series\n",
    "plt.plot(EEG['times'],pc_timeseries,label='PC')\n",
    "plt.plot(EEG['times'],EEG['data'][30,:],label='Channel')\n",
    "plt.plot(EEG['times'],-dipole_data[:,diploc]*100,label='truth')\n",
    "plt.legend()\n",
    "plt.xlabel('Time (s)')\n",
    "plt.show()"
   ]
  },
  {
   "cell_type": "code",
   "execution_count": null,
   "metadata": {},
   "outputs": [],
   "source": []
  }
 ],
 "metadata": {
  "kernelspec": {
   "display_name": "Python 3",
   "language": "python",
   "name": "python3"
  },
  "language_info": {
   "codemirror_mode": {
    "name": "ipython",
    "version": 3
   },
   "file_extension": ".py",
   "mimetype": "text/x-python",
   "name": "python",
   "nbconvert_exporter": "python",
   "pygments_lexer": "ipython3",
   "version": "3.7.3"
  }
 },
 "nbformat": 4,
 "nbformat_minor": 2
}
