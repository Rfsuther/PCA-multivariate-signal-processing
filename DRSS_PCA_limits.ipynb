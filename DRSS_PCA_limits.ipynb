{
 "cells": [
  {
   "cell_type": "markdown",
   "metadata": {},
   "source": [
    "# COURSE: PCA and multivariate neural signal processing\n",
    "## SECTION: Dimension reduction with PCA\n",
    "### VIDEO: Python: Limitations of principal components analysis\n",
    "#### Instructor: sincxpress.com"
   ]
  },
  {
   "cell_type": "code",
   "execution_count": null,
   "metadata": {},
   "outputs": [],
   "source": [
    "import numpy as np\n",
    "import matplotlib.pyplot as plt"
   ]
  },
  {
   "cell_type": "code",
   "execution_count": null,
   "metadata": {},
   "outputs": [],
   "source": [
    "## generate data\n",
    "x = np.random.randn(1000,2)\n",
    "x[:,1] *= .05\n",
    "\n",
    "# rotation matrix\n",
    "th = -np.pi/6\n",
    "R1 = [ [np.cos(th),-np.sin(th)], [np.sin(th),np.cos(th)] ]\n",
    "th = -np.pi/3\n",
    "R2 = [ [np.cos(th),-np.sin(th)], [np.sin(th),np.cos(th)] ]\n",
    "\n",
    "# rotate data\n",
    "y = np.concatenate((x@R1,x@R2))\n",
    "\n",
    "\n",
    "# plotting\n",
    "plt.plot(y[:,0],y[:,1],'bo',markerfacecolor='y')\n",
    "plt.axis('square')\n",
    "\n",
    "\n",
    "# now PCA\n",
    "y[:,0] -= np.mean(y[:,0])\n",
    "y[:,1] -= np.mean(y[:,1])\n",
    "evalsY,evecsY = np.linalg.eig( (y.T@y) / len(y) )\n",
    "\n",
    "plt.plot([0,evecsY[0,0]],[0,evecsY[1,0]],'r',linewidth=3)\n",
    "plt.plot([0,evecsY[0,1]],[0,evecsY[1,1]],'k',linewidth=3)\n",
    "\n",
    "plt.show()"
   ]
  }
 ],
 "metadata": {
  "kernelspec": {
   "display_name": "Python 3",
   "language": "python",
   "name": "python3"
  },
  "language_info": {
   "codemirror_mode": {
    "name": "ipython",
    "version": 3
   },
   "file_extension": ".py",
   "mimetype": "text/x-python",
   "name": "python",
   "nbconvert_exporter": "python",
   "pygments_lexer": "ipython3",
   "version": "3.7.3"
  }
 },
 "nbformat": 4,
 "nbformat_minor": 2
}
