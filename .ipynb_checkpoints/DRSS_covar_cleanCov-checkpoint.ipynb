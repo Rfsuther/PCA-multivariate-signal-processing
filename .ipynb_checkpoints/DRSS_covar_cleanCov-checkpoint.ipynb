{
 "cells": [
  {
   "cell_type": "markdown",
   "metadata": {},
   "source": [
    "# COURSE: PCA and multivariate neural signal processing\n",
    "## SECTION: Creating and interpreting covariance matrices\n",
    "### VIDEO: Python: Single-trial covariance distances\n",
    "#### Instructor: sincxpress.com"
   ]
  },
  {
   "cell_type": "code",
   "execution_count": null,
   "metadata": {},
   "outputs": [],
   "source": [
    "import numpy as np\n",
    "import matplotlib.pyplot as plt\n",
    "import scipy.io as sio\n",
    "import copy"
   ]
  },
  {
   "cell_type": "markdown",
   "metadata": {},
   "source": [
    "\n",
    "---\n",
    "# VIDEO: Evaluating and improving covariance quality\n",
    "---\n"
   ]
  },
  {
   "cell_type": "code",
   "execution_count": null,
   "metadata": {},
   "outputs": [],
   "source": [
    "# mat file containing EEG, leadfield and channel locations\n",
    "matfile = sio.loadmat('sampleEEGdata')\n",
    "EEG = matfile['EEG'][0,0]\n",
    "EEG['times'] = EEG['times'][0]"
   ]
  },
  {
   "cell_type": "code",
   "execution_count": null,
   "metadata": {},
   "outputs": [],
   "source": [
    "## compute covariances and distances\n",
    "\n",
    "# compute average of single-trial covariances\n",
    "covave = np.zeros( (int(EEG['nbchan']),int(EEG['nbchan'])) )\n",
    "for triali in range(int(EEG['trials'])):\n",
    "    covave += np.cov( EEG['data'][:,:,triali] )\n",
    "\n",
    "# divide by number of trials\n",
    "covave = covave / triali\n",
    "\n",
    "\n",
    "# now loop through trials and compute the distance to the average\n",
    "covdist = np.zeros(int(EEG['trials']))\n",
    "\n",
    "for triali in range(int(EEG['trials'])):\n",
    "    thistrialcov = np.cov( EEG['data'][:,:,triali] )\n",
    "    covdist[triali] = np.sqrt( np.dot( thistrialcov.flatten(),covave.flatten()) )\n",
    "\n",
    "# convert to z\n",
    "covdistz = (covdist-np.mean(covdist)) / np.std(covdist)\n"
   ]
  },
  {
   "cell_type": "code",
   "execution_count": null,
   "metadata": {},
   "outputs": [],
   "source": [
    "## visual inspection of covariance distances to average\n",
    "\n",
    "# show the covariance distances\n",
    "plt.subplot(121)\n",
    "plt.plot(covdistz,'ks-')\n",
    "plt.xlabel('Trial')\n",
    "plt.ylabel('Z_{dist}')\n",
    "plt.title('Z-scored covariance distances')\n",
    "\n",
    "\n",
    "# histogram of distances\n",
    "plt.subplot(122)\n",
    "plt.hist(covdistz,10)\n",
    "plt.xlabel('Distances')\n",
    "plt.ylabel('Count')\n",
    "plt.title('Histogram of distances')\n",
    "plt.show()"
   ]
  },
  {
   "cell_type": "code",
   "execution_count": null,
   "metadata": {},
   "outputs": [],
   "source": [
    "## pick a threshold and reject trials\n",
    "\n",
    "# threshold\n",
    "thresh = 2.3  # corresponds to p~.01\n",
    "\n",
    "# identify trials that exceed the threshold\n",
    "toofar = covdistz>thresh\n",
    "\n",
    "# remove those trials from the data\n",
    "data2 = copy.deepcopy( EEG['data'] )\n",
    "data2 = data2[:,:,~toofar]\n"
   ]
  },
  {
   "cell_type": "code",
   "execution_count": null,
   "metadata": {},
   "outputs": [],
   "source": [
    "## show some data before and after rejection\n",
    "\n",
    "# plot time courses\n",
    "plt.plot(EEG['times'],np.mean(EEG['data'][30,:,:],axis=1),'k',label='Original data')\n",
    "plt.plot(EEG['times'],np.mean(data2[30,:,:],axis=1),'r',label='Trials removed')\n",
    "plt.xlabel('Time (a.u.)')\n",
    "plt.legend()\n",
    "plt.title('Time series before and after covariance cleaning')\n",
    "plt.show()"
   ]
  }
 ],
 "metadata": {
  "kernelspec": {
   "display_name": "Python 3",
   "language": "python",
   "name": "python3"
  },
  "language_info": {
   "codemirror_mode": {
    "name": "ipython",
    "version": 3
   },
   "file_extension": ".py",
   "mimetype": "text/x-python",
   "name": "python",
   "nbconvert_exporter": "python",
   "pygments_lexer": "ipython3",
   "version": "3.7.6"
  }
 },
 "nbformat": 4,
 "nbformat_minor": 2
}
