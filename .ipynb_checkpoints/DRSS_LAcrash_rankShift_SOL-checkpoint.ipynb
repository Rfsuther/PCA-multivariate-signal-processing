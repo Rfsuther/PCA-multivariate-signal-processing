{
 "cells": [
  {
   "cell_type": "markdown",
   "metadata": {},
   "source": [
    "# COURSE: PCA and multivariate neural signal processing\n",
    "## SECTION: Linear algebra crash course\n",
    "### VIDEO: Python: Rank and shifting (SOLUTIONS file)\n",
    "#### Instructor: sincxpress.com"
   ]
  },
  {
   "cell_type": "code",
   "execution_count": null,
   "metadata": {},
   "outputs": [],
   "source": [
    "import numpy as np\n",
    "import matplotlib.pyplot as plt\n",
    "import math\n",
    "from mpl_toolkits.mplot3d import Axes3D"
   ]
  },
  {
   "cell_type": "markdown",
   "metadata": {},
   "source": [
    "\n",
    "---\n",
    "# Matrix rank\n",
    "---\n"
   ]
  },
  {
   "cell_type": "code",
   "execution_count": null,
   "metadata": {},
   "outputs": [],
   "source": [
    "# a few simple matrices\n",
    "A = np.array([ [1,1],\n",
    "               [2,2] ])\n",
    "\n",
    "B = np.array([ [1,1],\n",
    "               [1,3] ])\n",
    "\n",
    "\n",
    "rankA = np.linalg.matrix_rank(A)\n",
    "rankB = np.linalg.matrix_rank(B)\n",
    "\n",
    "print(f'rank(A)={rankA},  rank(B)={rankB}')\n",
    "\n",
    "# QUESTION: Why is matrix A reduced rank? \n",
    "#           Can you change one number in the matrix to make it full-rank?\n",
    "#           Can you change one number in B to reduce its rank to 1?"
   ]
  },
  {
   "cell_type": "code",
   "execution_count": null,
   "metadata": {},
   "outputs": [],
   "source": [
    "## rank of random matrices\n",
    "\n",
    "# random matrices are basically guaranteed to be full rank, which is the \n",
    "# smallest size of the matrix:\n",
    "\n",
    "A = np.random.randn(10,30)\n",
    "\n",
    "np.linalg.matrix_rank(A)\n"
   ]
  },
  {
   "cell_type": "code",
   "execution_count": null,
   "metadata": {},
   "outputs": [],
   "source": []
  },
  {
   "cell_type": "markdown",
   "metadata": {},
   "source": [
    "---\n",
    "# Linear independence\n",
    "---"
   ]
  },
  {
   "cell_type": "code",
   "execution_count": null,
   "metadata": {},
   "outputs": [],
   "source": [
    "### The goal here is to build some geometric intuition for independence.\n",
    "#   The green plane is the subspace spanned by the columns of matrix S.\n",
    "#   The blue vector is a linear combination of those columns, and thus lies\n",
    "#   in the same plane. The red vector cannot be expressed using the columns\n",
    "#   of S and is therefore not in the plane.\n",
    "\n",
    "\n",
    "# matrix S\n",
    "S = np.array( [ [3,0],\n",
    "                [5,2],\n",
    "                [1,2] ] )\n",
    "\n",
    "# vector v\n",
    "v = np.array([[-3], [1], [5]])\n",
    "v = np.array([[1], [7], [3]])\n",
    "\n",
    "\n",
    "fig = plt.figure()\n",
    "ax = fig.gca(projection='3d')\n",
    "\n",
    "# draw plane corresponding to the column space\n",
    "xx, yy = np.meshgrid(np.linspace(-5,5,10),np.linspace(-5,5,10))\n",
    "cp = np.cross(S[:,0],S[:,1])\n",
    "z1 = (-cp[0]*xx - cp[1]*yy)/cp[2]\n",
    "ax.plot_surface(xx,yy,z1,alpha=.2)\n",
    "\n",
    "\n",
    "## plot the two vectors from matrix S\n",
    "ax.plot([0, S[0,0]],[0, S[1,0]],[0, S[2,0]],'k')\n",
    "ax.plot([0, S[0,1]],[0, S[1,1]],[0, S[2,1]],'k')\n",
    "\n",
    "# and the vector v\n",
    "ax.plot([0, v[0]],[0, v[1]],[0, v[2]],'r')\n",
    "\n",
    "\n",
    "# hint: uncomment the next line to see the red vector out the plane\n",
    "# ax.view_init(elev=150,azim=0)\n",
    "plt.show()\n"
   ]
  },
  {
   "cell_type": "code",
   "execution_count": null,
   "metadata": {},
   "outputs": [],
   "source": [
    "## testing for independence via matrix rank\n",
    "\n",
    "# One definition of rank is the largest number of columns (or rows) that\n",
    "# would form a linearly independent set.\n",
    "\n",
    "# three column vectors\n",
    "c1 = np.array([[ 1, 2, 3 ]]).T\n",
    "c2 = np.array([[ 2, 4, 6 ]]).T\n",
    "c3 = np.array([[ 2, 4, 5 ]]).T\n",
    "\n",
    "# determine whether {c1,c2} is an independent set\n",
    "print( np.linalg.matrix_rank(np.hstack((c1,c2))) )\n",
    "\n",
    "# repeat for {c1,c3}\n",
    "print( np.linalg.matrix_rank(np.hstack((c1,c3))) )\n",
    "\n",
    "# repeat for {c1,c2,c3}\n",
    "M = np.hstack((c1,c2,c3))\n",
    "print( np.linalg.matrix_rank(M) )\n",
    "\n",
    "\n",
    "# QUESTION: Does the rank change for transposed matrices? Try it!"
   ]
  },
  {
   "cell_type": "markdown",
   "metadata": {},
   "source": [
    "---\n",
    "# \"Shifting\" a matrix\n",
    "---"
   ]
  },
  {
   "cell_type": "code",
   "execution_count": null,
   "metadata": {},
   "outputs": [],
   "source": [
    "# \"shifting\" a matrix\n",
    "l = .3 # lambda\n",
    "N =  5 # size of square matrix\n",
    "D =  np.random.randn(N,N)  # can only shift a square matrix\n",
    "\n",
    "# the shifting\n",
    "Ds = D + l*np.eye(N)\n",
    "print(Ds)"
   ]
  },
  {
   "cell_type": "code",
   "execution_count": null,
   "metadata": {},
   "outputs": [],
   "source": [
    "### shifting a matrix to full-rank\n",
    "\n",
    "# Create a reduced-rank matrix. The mechanics of why this works is from the\n",
    "# theory of matrix rank. It wasn't covered in class.\n",
    "\n",
    "# size of matrix\n",
    "m = 30\n",
    "\n",
    "# create the square symmetric matrix\n",
    "A = np.random.randn(m,m)\n",
    "A = np.round( 10*A.T@A )\n",
    "\n",
    "# reduce the rank\n",
    "A[:,0] = A[:,1]\n",
    "\n",
    "# shift amount (l=lambda)\n",
    "l = .01\n",
    "\n",
    "# new matrix\n",
    "B = A + l*np.eye(m,m)\n",
    "\n",
    "# print information\n",
    "print('rank(w/o shift) = %d' %np.linalg.matrix_rank(A))\n",
    "print('rank(with shift) = %d' %np.linalg.matrix_rank(B))\n",
    "\n",
    "\n",
    "# QUESTION: What is the smallest you can make lambda and still get a\n",
    "#           full-rank matrix? (Hint: scientific notation is 1e-5 for .00001)\n",
    "#           What does this tell you about making full-rank matrices?\n"
   ]
  },
  {
   "cell_type": "code",
   "execution_count": null,
   "metadata": {},
   "outputs": [],
   "source": []
  }
 ],
 "metadata": {
  "kernelspec": {
   "display_name": "Python 3",
   "language": "python",
   "name": "python3"
  },
  "language_info": {
   "codemirror_mode": {
    "name": "ipython",
    "version": 3
   },
   "file_extension": ".py",
   "mimetype": "text/x-python",
   "name": "python",
   "nbconvert_exporter": "python",
   "pygments_lexer": "ipython3",
   "version": "3.7.3"
  }
 },
 "nbformat": 4,
 "nbformat_minor": 2
}
